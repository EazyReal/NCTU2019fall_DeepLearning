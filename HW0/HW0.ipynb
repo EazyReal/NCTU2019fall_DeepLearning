{
 "cells": [
  {
   "cell_type": "code",
   "execution_count": 174,
   "metadata": {},
   "outputs": [],
   "source": [
    "import csv\n",
    "import numpy as np\n",
    "import matplotlib.pyplot as plt"
   ]
  },
  {
   "cell_type": "code",
   "execution_count": 175,
   "metadata": {},
   "outputs": [
    {
     "name": "stdout",
     "output_type": "stream",
     "text": [
      "(100, 10)\n",
      "(100, 1)\n"
     ]
    }
   ],
   "source": [
    "with open(\"data_1.csv\") as fo:\n",
    "    data1 = csv.reader(fo)\n",
    "    X = [[]]\n",
    "    y = []\n",
    "    for row in data1:\n",
    "        if(row[0] == \"x\"): continue\n",
    "        X.append([pow(float(row[0]), i) for i in range(0,10)])\n",
    "        y.append([float(row[1])])\n",
    "    X = X[1:]\n",
    "    X = np.array(X)\n",
    "    y = np.array(y)\n",
    "    \n",
    "    print(X.shape)\n",
    "    print(y.shape)\n",
    "    #print(X)\n",
    "    #print(y)"
   ]
  },
  {
   "cell_type": "code",
   "execution_count": 176,
   "metadata": {},
   "outputs": [],
   "source": [
    "train_n = int(len(X)*0.7)\n",
    "train_X = X[:train_n]\n",
    "train_y = y[:train_n]\n",
    "test_X = X[train_n:]\n",
    "test_y = y[train_n:]"
   ]
  },
  {
   "cell_type": "code",
   "execution_count": 177,
   "metadata": {},
   "outputs": [
    {
     "data": {
      "image/png": "[encoded data removed]",
      "text/plain": [
       "<Figure size 432x288 with 1 Axes>"
      ]
     },
     "metadata": {
      "needs_background": "light"
     },
     "output_type": "display_data"
    }
   ],
   "source": [
    "plt.figure()\n",
    "plt.scatter([x[1] for x in X],y)\n",
    "plt.xlabel(\"x\")\n",
    "plt.ylabel(\"t\")\n",
    "plt.title(\"x-t scatter graph\")\n",
    "plt.ylim(-1.2,1.2)\n",
    "#plt.legend()\n",
    "plt.show()"
   ]
  },
  {
   "cell_type": "code",
   "execution_count": null,
   "metadata": {},
   "outputs": [],
   "source": []
  },
  {
   "cell_type": "code",
   "execution_count": 178,
   "metadata": {},
   "outputs": [],
   "source": [
    "learning_rate = 0.01\n",
    "epoch = 1000"
   ]
  },
  {
   "cell_type": "code",
   "execution_count": 179,
   "metadata": {},
   "outputs": [],
   "source": [
    "def calc_pred(w, x):\n",
    "    return np.matmul(x, w)\n",
    "\n",
    "def calc_error(p, y):\n",
    "    return np.add.reduce((p-y)*(p-y))/(2*len(p))\n",
    "\n",
    "def calc_grad(w, x, t):\n",
    "    #print(np.matmul(x,w).shape)\n",
    "    #print(x.shape)\n",
    "    dedw = np.asarray([-(t-np.matmul(x, w))*x[wi] for wi in range(len(w))])\n",
    "    return dedw\n",
    "\n",
    "#print(np.asarray([1,2,3])*np.asarray([2, 2, 2]))"
   ]
  },
  {
   "cell_type": "code",
   "execution_count": 180,
   "metadata": {},
   "outputs": [
    {
     "name": "stdout",
     "output_type": "stream",
     "text": [
      "(10, 1)\n",
      "[[ 0.40239885]\n",
      " [-0.08008723]\n",
      " [ 0.47949236]\n",
      " [ 0.2284049 ]\n",
      " [ 0.99776019]\n",
      " [ 0.52169794]\n",
      " [ 0.37824647]\n",
      " [ 0.16305435]\n",
      " [-0.44538231]\n",
      " [ 0.50686084]]\n",
      "training error now = [0.0914839]\n",
      "training error now = [0.08513058]\n",
      "training error now = [0.08216605]\n",
      "training error now = [0.07974687]\n",
      "training error now = [0.0776365]\n",
      "training error now = [0.07580551]\n",
      "training error now = [0.07422276]\n",
      "training error now = [0.07285311]\n",
      "training error now = [0.07166352]\n",
      "training error now = [0.0706252]\n",
      "training error now = [0.06971372]\n",
      "training error now = [0.06890863]\n",
      "training error now = [0.06819285]\n",
      "training error now = [0.06755215]\n",
      "training error now = [0.06697467]\n",
      "training error now = [0.06645051]\n",
      "training error now = [0.06597143]\n",
      "training error now = [0.06553054]\n",
      "training error now = [0.0651221]\n",
      "training error now = [0.06474131]\n"
     ]
    }
   ],
   "source": [
    "#do gradient descent:\n",
    "#print(np.add.reduce((np.asarray([0, 0, 0])-np.asarray([2, 2, 2]))*(np.asarray([0, 0, 0])-np.asarray([2, 2, 2])))/(2*3))\n",
    "#model = x(100, 10)*w(10, 1) = pred(100,1)\n",
    "node_in = 10\n",
    "node_out = 1\n",
    "W = np.random.randn(node_in, node_out) / np.sqrt(node_in / 2)\n",
    "print(W.shape)\n",
    "print(W)\n",
    "\n",
    "for ep_i in range(1, epoch+1):\n",
    "    p = calc_pred(W, train_X)\n",
    "    for g_i in range(len(train_X)):\n",
    "        W -= learning_rate*calc_grad(W, train_X[g_i], train_y[g_i][0])\n",
    "    if(ep_i%50 == 0):\n",
    "        print(\"training error now = {}\".format(calc_error(p, train_y)))\n",
    "    "
   ]
  },
  {
   "cell_type": "code",
   "execution_count": 185,
   "metadata": {},
   "outputs": [
    {
     "name": "stdout",
     "output_type": "stream",
     "text": [
      "(100,)\n",
      "(100, 1)\n"
     ]
    },
    {
     "data": {
      "image/png": "[encoded data removed]",
      "text/plain": [
       "<Figure size 432x288 with 1 Axes>"
      ]
     },
     "metadata": {
      "needs_background": "light"
     },
     "output_type": "display_data"
    }
   ],
   "source": [
    "plt.figure()\n",
    "xs = np.linspace(0, 1, 1000)\n",
    "ys = np.asarray([ np.matmul(np.asarray([[pow(x, i) for i in range(len(W))]]), W)[0][0] for x in xs])\n",
    "print(np.asarray([x[1] for x in X]).shape)\n",
    "print(np.asarray(y).shape)\n",
    "plt.scatter([x[1] for x in X],y)\n",
    "plt.plot(xs,ys)\n",
    "plt.xlabel(\"x\")\n",
    "plt.ylabel(\"t\")\n",
    "plt.title(\"poly regression with M = {} and learning rate = {}\".format(9, learning_rate))\n",
    "#plt.legend()\n",
    "plt.show()\n"
   ]
  },
  {
   "cell_type": "code",
   "execution_count": null,
   "metadata": {},
   "outputs": [],
   "source": []
  },
  {
   "cell_type": "code",
   "execution_count": null,
   "metadata": {},
   "outputs": [],
   "source": []
  }
 ],
 "metadata": {
  "kernelspec": {
   "display_name": "Python 3",
   "language": "python",
   "name": "python3"
  },
  "language_info": {
   "codemirror_mode": {
    "name": "ipython",
    "version": 3
   },
   "file_extension": ".py",
   "mimetype": "text/x-python",
   "name": "python",
   "nbconvert_exporter": "python",
   "pygments_lexer": "ipython3",
   "version": "3.7.4"
  }
 },
 "nbformat": 4,
 "nbformat_minor": 2
}
