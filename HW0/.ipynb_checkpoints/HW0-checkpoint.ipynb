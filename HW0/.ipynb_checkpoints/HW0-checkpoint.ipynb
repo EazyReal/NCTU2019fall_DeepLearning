{
 "cells": [
  {
   "cell_type": "code",
   "execution_count": 66,
   "metadata": {},
   "outputs": [],
   "source": [
    "import csv\n",
    "import numpy as np\n",
    "import matplotlib.pyplot as plt"
   ]
  },
  {
   "cell_type": "code",
   "execution_count": 67,
   "metadata": {},
   "outputs": [
    {
     "name": "stdout",
     "output_type": "stream",
     "text": [
      "(100, 10)\n",
      "(100, 1)\n"
     ]
    }
   ],
   "source": [
    "with open(\"data_1.csv\") as fo:\n",
    "    data1 = csv.reader(fo)\n",
    "    X = [[]]\n",
    "    y = []\n",
    "    for row in data1:\n",
    "        if(row[0] == \"x\"): continue\n",
    "        X.append([pow(float(row[0]), i) for i in range(0,10)])\n",
    "        y.append([float(row[1])])\n",
    "    X = X[1:]\n",
    "    X = np.array(X)\n",
    "    y = np.array(y)\n",
    "    \n",
    "    print(X.shape)\n",
    "    print(y.shape)\n",
    "    #print(X)\n",
    "    #print(y)"
   ]
  },
  {
   "cell_type": "code",
   "execution_count": 68,
   "metadata": {},
   "outputs": [],
   "source": [
    "train_n = int(len(X)*0.7)\n",
    "train_X = X[:train_n]\n",
    "train_y = y[:train_n]\n",
    "test_X = X[train_n:]\n",
    "test_y = y[train_n:]"
   ]
  },
  {
   "cell_type": "code",
   "execution_count": 69,
   "metadata": {},
   "outputs": [
    {
     "data": {
      "image/png": "[encoded data removed]",
      "text/plain": [
       "<Figure size 432x288 with 1 Axes>"
      ]
     },
     "metadata": {
      "needs_background": "light"
     },
     "output_type": "display_data"
    }
   ],
   "source": [
    "plt.figure()\n",
    "plt.scatter([x[1] for x in X],y)\n",
    "plt.xlabel(\"x\")\n",
    "plt.ylabel(\"t\")\n",
    "plt.title(\"x-t scatter graph\")\n",
    "plt.ylim(-1.2,1.2)\n",
    "#plt.legend()\n",
    "plt.show()"
   ]
  },
  {
   "cell_type": "code",
   "execution_count": 70,
   "metadata": {},
   "outputs": [
    {
     "name": "stdout",
     "output_type": "stream",
     "text": [
      "(10, 1)\n",
      "[[-0.77873093]\n",
      " [ 0.75486238]\n",
      " [-0.93519975]\n",
      " [ 0.12887666]\n",
      " [-0.85210851]\n",
      " [ 0.27474388]\n",
      " [-0.28504378]\n",
      " [-0.27495902]\n",
      " [ 0.75154369]\n",
      " [-0.20005058]]\n"
     ]
    }
   ],
   "source": [
    "#model = x(100, 10)*w(10, 1) = pred(100,1)\n",
    "node_in = 10\n",
    "node_out = 1\n",
    "W = np.random.randn(node_in, node_out) / np.sqrt(node_in / 2)\n",
    "print(W.shape)\n",
    "print(W)"
   ]
  },
  {
   "cell_type": "code",
   "execution_count": 125,
   "metadata": {},
   "outputs": [],
   "source": [
    "learning_rate = 0.1\n",
    "epoch = 1000"
   ]
  },
  {
   "cell_type": "code",
   "execution_count": 141,
   "metadata": {},
   "outputs": [],
   "source": [
    "def calc_pred(w, x):\n",
    "    return np.matmul(x, w)\n",
    "\n",
    "def calc_error(p, y):\n",
    "    return np.add.reduce((p-y)*(p-y))/(2*len(p))\n",
    "\n",
    "def calc_grad(w, x, t):\n",
    "    #print(np.matmul(x,w).shape)\n",
    "    #print(x.shape)\n",
    "    dedw = np.asarray([-(t/-np.matmul(x, w))*x[wi] for wi in range(len(w))])\n",
    "    return dedw\n",
    "\n",
    "#print(np.asarray([1,2,3])*np.asarray([2, 2, 2]))"
   ]
  },
  {
   "cell_type": "code",
   "execution_count": 145,
   "metadata": {},
   "outputs": [
    {
     "name": "stdout",
     "output_type": "stream",
     "text": [
      "2.0\n",
      "training error now = [13896.29684356]\n",
      "training error now = [13757.98860024]\n",
      "training error now = [13619.38100082]\n",
      "training error now = [13480.46858454]\n",
      "training error now = [13341.2457066]\n",
      "training error now = [13201.70652912]\n",
      "training error now = [13061.84501155]\n",
      "training error now = [12921.65490046]\n",
      "training error now = [12781.12971858]\n",
      "training error now = [12640.26275321]\n",
      "training error now = [12499.04704373]\n",
      "training error now = [12357.47536829]\n",
      "training error now = [12215.54022957]\n",
      "training error now = [12073.23383945]\n",
      "training error now = [11930.54810262]\n",
      "training error now = [11787.47459894]\n",
      "training error now = [11644.0045645]\n",
      "training error now = [11500.12887111]\n",
      "training error now = [11355.83800433]\n",
      "training error now = [11211.12203963]\n"
     ]
    }
   ],
   "source": [
    "#do gradient descent:\n",
    "#print(np.add.reduce((np.asarray([0, 0, 0])-np.asarray([2, 2, 2]))*(np.asarray([0, 0, 0])-np.asarray([2, 2, 2])))/(2*3))\n",
    "\n",
    "for ep_i in range(1, epoch+1):\n",
    "    p = calc_pred(W, train_X)\n",
    "    for g_i in range(len(train_X)):\n",
    "        W -= learning_rate*calc_grad(W, train_X[g_i], train_y[g_i][0])\n",
    "    if(ep_i%50 == 0):\n",
    "        print(\"training error now = {}\".format(calc_error(p, train_y)))\n",
    "    "
   ]
  },
  {
   "cell_type": "code",
   "execution_count": 140,
   "metadata": {},
   "outputs": [
    {
     "data": {
      "image/png": "[encoded data removed]",
      "text/plain": [
       "<Figure size 432x288 with 1 Axes>"
      ]
     },
     "metadata": {
      "needs_background": "light"
     },
     "output_type": "display_data"
    }
   ],
   "source": [
    "plt.figure()\n",
    "xs = np.linspace(0, 1, 1000)\n",
    "y = np.asarray([ np.matmul(np.asarray([[pow(x, i) for i in range(len(W))]]), W)[0][0] for x in xs])\n",
    "plt.plot(x,y)\n",
    "plt.xlabel(\"x\")\n",
    "plt.ylabel(\"t\")\n",
    "plt.title(\"x-t  graph\")\n",
    "plt.ylim(-1.2,1.2)\n",
    "#plt.legend()\n",
    "plt.show()"
   ]
  },
  {
   "cell_type": "code",
   "execution_count": null,
   "metadata": {},
   "outputs": [],
   "source": []
  },
  {
   "cell_type": "code",
   "execution_count": null,
   "metadata": {},
   "outputs": [],
   "source": []
  }
 ],
 "metadata": {
  "kernelspec": {
   "display_name": "Python 3",
   "language": "python",
   "name": "python3"
  },
  "language_info": {
   "codemirror_mode": {
    "name": "ipython",
    "version": 3
   },
   "file_extension": ".py",
   "mimetype": "text/x-python",
   "name": "python",
   "nbconvert_exporter": "python",
   "pygments_lexer": "ipython3",
   "version": "3.7.4"
  }
 },
 "nbformat": 4,
 "nbformat_minor": 2
}
