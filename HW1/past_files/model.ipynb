{
 "cells": [
  {
   "cell_type": "code",
   "execution_count": 44,
   "metadata": {},
   "outputs": [],
   "source": [
    "import numpy as np\n",
    "\n",
    "class NN(object):\n",
    "    def __init__(self, layers = [10 , 20, 1], activations=['sigmoid', 'relu'], usage = 'regression'):\n",
    "        assert(len(layers) == len(activations)+1)\n",
    "        self.layers = layers\n",
    "        self.activations = activations\n",
    "        self.weights = []\n",
    "        self.biases = []\n",
    "        self.usage = usage\n",
    "        for i in range(len(layers)-1):\n",
    "            self.weights.append(np.random.randn(layers[i+1], layers[i]))\n",
    "            self.biases.append(np.random.randn(layers[i+1], 1))\n",
    "\n",
    "    def feedforward(self, x):\n",
    "        ai = np.copy(x)\n",
    "        #print(ai.shape)\n",
    "        z_s = []\n",
    "        a_s = [ai]\n",
    "        for i in range(len(self.weights)):\n",
    "            #activation_function = self.AF(self.activations[i])\n",
    "            z_s.append(self.weights[i].dot(ai) + self.biases[i])\n",
    "            ai = self.AF(self.activations[i])(z_s[-1])\n",
    "            a_s.append(ai)\n",
    "        return (z_s, a_s)\n",
    "\n",
    "    def backpropagation(self,y, z_s, a_s):\n",
    "        dw = []  # dC/dW\n",
    "        db = []  # dC/dB\n",
    "        deltas = [None] * len(self.weights)  # delta = dC/dZ, error for each layer\n",
    "\n",
    "        #out delta measurement =\n",
    "        delta_out = (self.dJ(self.usage))(a_s[-1], y)\n",
    "        #last layer delta\n",
    "        deltas[-1] = delta_out*(self.dAF(self.activations[-1]))(z_s[-1])\n",
    "        # Perform BackPropagation\n",
    "        for i in reversed(range(len(deltas)-1)):\n",
    "            deltas[i] = self.weights[i+1].T.dot(deltas[i+1])*(self.dAF(self.activations[i])(z_s[i]))\n",
    "        #a= [print(d.shape) for d in deltas]\n",
    "        batch_size = y.shape[1]\n",
    "        db = [d.dot(np.ones((batch_size,1)))/float(batch_size) for d in deltas]\n",
    "        dw = [d.dot(a_s[i].T)/float(batch_size) for i,d in enumerate(deltas)]\n",
    "        # return the derivitives respect to weight matrix and biases\n",
    "        return dw, db\n",
    "\n",
    "    def train(self, x, y, batch_size=10, epochs=100, lr = 0.01):\n",
    "        #record cost by epchos\n",
    "        learning_curve = []\n",
    "\n",
    "        #mini batch\n",
    "        #assert(x.shape[0] >= batch_size*epochs)]\n",
    "        indices = np.arange(x.shape[1])#debug if 0\n",
    "        np.random.shuffle(indices)\n",
    "        x = (x.T[indices]).T\n",
    "        y = (y.T[indices]).T\n",
    "        for e in range(epochs):\n",
    "            i=0\n",
    "            while(i<len(y)):\n",
    "                x_batch = x[i:i+batch_size]\n",
    "                y_batch = y[i:i+batch_size]\n",
    "                i += batch_size\n",
    "                z_s, a_s = self.feedforward(x_batch)\n",
    "                dw, db = self.backpropagation(y_batch, z_s, a_s)\n",
    "                self.weights = [w+lr*dweight for w,dweight in  zip(self.weights, dw)]\n",
    "                self.biases = [w+lr*dbias for w,dbias in  zip(self.biases, db)]\n",
    "                learning_curve.append(np.linalg.norm(a_s[-1]-y_batch)) #to expand\n",
    "            if(e%(epochs/10)== 0):\n",
    "                print(\"loss = {}\".format(np.linalg.norm(a_s[-1]-y_batch))) #to expand\n",
    "        return learning_curve\n",
    "    @staticmethod\n",
    "    def AF(name):\n",
    "        if(name == 'sigmoid'):\n",
    "            return lambda x : np.exp(x)/(1+np.exp(x))\n",
    "        elif(name == 'linear'):\n",
    "            return lambda x : x\n",
    "        elif(name == 'relu'):\n",
    "            def relu(x):\n",
    "                y = np.copy(x)\n",
    "                y[y<0] = 0\n",
    "                return y\n",
    "            return relu\n",
    "        else:\n",
    "            print('unknown activation function => linear')\n",
    "            return lambda x: x\n",
    "    @staticmethod\n",
    "    def dAF(name):\n",
    "        if(name == 'sigmoid'):\n",
    "            def dsig(x):\n",
    "                sigx = np.exp(x)/(1+np.exp(x))\n",
    "                return sigx*(1-sigx)\n",
    "            return dsig\n",
    "        elif(name == 'linear'):\n",
    "            return lambda x: 1\n",
    "        elif(name == 'relu'):\n",
    "            def drelu(x):\n",
    "                y = np.copy(x)\n",
    "                y[y>=0] = 1\n",
    "                y[y<0] = 0\n",
    "                return y\n",
    "            return drelu\n",
    "        else:\n",
    "            print('unknown activation function => linear derivative')\n",
    "            return lambda x: 1\n",
    "\n",
    "    @staticmethod\n",
    "    def dJ(name):\n",
    "        if(name == 'regression'):\n",
    "            return lambda x, y: y-x\n",
    "        if(name == 'classification'):\n",
    "            return lambda x, y: np.divide(y, x) - np.divide(1 - y, 1 - x)\n",
    "        else:\n",
    "            print('unknown usage => regression')\n",
    "            return lambda x, y: y-x\n"
   ]
  },
  {
   "cell_type": "code",
   "execution_count": null,
   "metadata": {},
   "outputs": [],
   "source": []
  },
  {
   "cell_type": "code",
   "execution_count": 45,
   "metadata": {},
   "outputs": [
    {
     "name": "stdout",
     "output_type": "stream",
     "text": [
      "loss = 37.247601057871684\n",
      "loss = 16.46443460292491\n",
      "loss = 15.758700645822625\n",
      "loss = 15.576902667267989\n",
      "loss = 15.497967470504692\n",
      "loss = 15.454511505222175\n",
      "loss = 15.427109780970365\n",
      "loss = 15.408205286065396\n",
      "loss = 15.39428993311545\n",
      "loss = 15.383532972726863\n",
      "(1, 1000)\n",
      "(1, 1000)\n"
     ]
    }
   ],
   "source": [
    "\n",
    "import matplotlib.pyplot as plt\n",
    "nn = NN([1, 100, 1],activations=['sigmoid', 'sigmoid'])\n",
    "X = 2*np.pi*np.random.rand(1000).reshape(1, -1)\n",
    "y = np.sin(X)\n",
    "    \n",
    "nn.train(X, y, epochs=10000, batch_size=64, lr = .1)\n",
    "_, a_s = nn.feedforward(X)\n",
    "##print(y, X)\n",
    "#plt.scatter(X.flatten(), y.flatten())\n",
    "\n",
    "print(X.shape)\n",
    "print(y.shape)"
   ]
  },
  {
   "cell_type": "code",
   "execution_count": 43,
   "metadata": {},
   "outputs": [
    {
     "data": {
      "image/png": "[encoded data removed]",
      "text/plain": [
       "<Figure size 432x288 with 1 Axes>"
      ]
     },
     "metadata": {
      "needs_background": "light"
     },
     "output_type": "display_data"
    }
   ],
   "source": [
    "\n",
    "plt.scatter(X.flatten(), y.flatten())\n",
    "plt.scatter(X.flatten(), a_s[-1].flatten())\n",
    "plt.show()"
   ]
  },
  {
   "cell_type": "code",
   "execution_count": null,
   "metadata": {},
   "outputs": [],
   "source": []
  }
 ],
 "metadata": {
  "kernelspec": {
   "display_name": "Python 3",
   "language": "python",
   "name": "python3"
  },
  "language_info": {
   "codemirror_mode": {
    "name": "ipython",
    "version": 3
   },
   "file_extension": ".py",
   "mimetype": "text/x-python",
   "name": "python",
   "nbconvert_exporter": "python",
   "pygments_lexer": "ipython3",
   "version": "3.7.4"
  }
 },
 "nbformat": 4,
 "nbformat_minor": 2
}
