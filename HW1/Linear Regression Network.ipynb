{
 "cells": [
  {
   "cell_type": "code",
   "execution_count": 4,
   "metadata": {},
   "outputs": [],
   "source": [
    "#DL2019fall@NCTU HW1\n",
    "#developped on MacOS with jupyter notebook\n",
    "#author : 0712238, YT Lin \n",
    "#version control with git/github\n",
    "#programming language : python3.7\n",
    "import numpy as np\n",
    "import math"
   ]
  },
  {
   "cell_type": "code",
   "execution_count": 5,
   "metadata": {},
   "outputs": [
    {
     "ename": "SyntaxError",
     "evalue": "invalid syntax (<ipython-input-5-3069a26a5a9b>, line 20)",
     "output_type": "error",
     "traceback": [
      "\u001b[0;36m  File \u001b[0;32m\"<ipython-input-5-3069a26a5a9b>\"\u001b[0;36m, line \u001b[0;32m20\u001b[0m\n\u001b[0;31m    ret =\u001b[0m\n\u001b[0m          ^\u001b[0m\n\u001b[0;31mSyntaxError\u001b[0m\u001b[0;31m:\u001b[0m invalid syntax\n"
     ]
    }
   ],
   "source": [
    "def relu(x):\n",
    "    return max(0, x)\n",
    "\n",
    "def sigmoid(x):\n",
    "    return \n",
    "\n",
    "#def selu(x):\n",
    "\n",
    "class Neuron:\n",
    "    #output, error, gradient, weights\n",
    "    def __init__(self, in_data, f = relu(x)):\n",
    "        self.n_in = len(in_data)\n",
    "        self.f = f\n",
    "        self.weight = np.randam.normal(0, 0.1, size = (n_in)) #small non-zero random number as init value\n",
    "        #self.error = 0.0\n",
    "        #self.out = 0.0\n",
    "        #self.grad\n",
    "        \n",
    "    def foward(self):\n",
    "        weighted_sum = 0.0\n",
    "        for node in in_data:\n",
    "            weighted_sum += self.weight[i]*node.out\n",
    "        return self.out = f(weighted_sum)\n",
    "        \n",
    "    def backward(self):\n",
    "        pass\n",
    "\n",
    "class Network:\n",
    "    def __init__(self, structure)\n",
    "        self.structure = structure\n",
    "        self.layers = []\n",
    "        for n_layer_i in structure:\n",
    "            layer = []\n",
    "            for i in range(n_layer_i):\n",
    "                if(len(layers) == 0):\n",
    "                    layer.append(Neuron(None))\n",
    "                else:\n",
    "                    layer.append(Neuron(layers[-1]))\n",
    "    \n",
    "    def forwark_prop(self):\n",
    "        \n",
    "            \n",
    "    "
   ]
  },
  {
   "cell_type": "code",
   "execution_count": null,
   "metadata": {},
   "outputs": [],
   "source": []
  }
 ],
 "metadata": {
  "kernelspec": {
   "display_name": "Python 3",
   "language": "python",
   "name": "python3"
  },
  "language_info": {
   "codemirror_mode": {
    "name": "ipython",
    "version": 3
   },
   "file_extension": ".py",
   "mimetype": "text/x-python",
   "name": "python",
   "nbconvert_exporter": "python",
   "pygments_lexer": "ipython3",
   "version": "3.7.4"
  }
 },
 "nbformat": 4,
 "nbformat_minor": 2
}
