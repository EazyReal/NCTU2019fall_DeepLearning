{
 "cells": [
  {
   "cell_type": "code",
   "execution_count": 1,
   "metadata": {},
   "outputs": [],
   "source": [
    "#author = 0712238@NCTU, Maxwill Lin, YT Lin\n",
    "#last update = 2019.11.6-7\n",
    "#usage = HW1 of Deep Learning 2019 fall @ NCTU ,problem 1-c\n",
    "#regression experiments\n",
    "#preprocess with normaliztion and one-hot vectorization\n",
    "#NN architectur = NN([exp, 10, 5, 1],activations=['sigmoid', 'sigmoid', 'relu'], usage = 'regression')\n",
    "#train and test with split data set\n",
    "#learning curve + train/test RMS\n",
    "#importance ranking with measurement = avg test RMS over 10 experiments(each exp try until get a valid network)\n",
    "#result and validation visualized"
   ]
  },
  {
   "cell_type": "code",
   "execution_count": 2,
   "metadata": {},
   "outputs": [],
   "source": [
    "import numpy as np\n",
    "import math\n",
    "import pandas as pd\n",
    "from model import *\n",
    "import csv\n",
    "import matplotlib.pyplot as plt\n",
    "import pickle"
   ]
  },
  {
   "cell_type": "code",
   "execution_count": 4,
   "metadata": {},
   "outputs": [],
   "source": [
    "#preprocessing\n",
    "df = pd.read_csv(\"EnergyEfficiency_data.csv\")"
   ]
  },
  {
   "cell_type": "code",
   "execution_count": 5,
   "metadata": {},
   "outputs": [
    {
     "name": "stdout",
     "output_type": "stream",
     "text": [
      "Index(['Relative Compactness', 'Surface Area', 'Wall Area', 'Roof Area',\n",
      "       'Overall Height', 'Orientation', 'Glazing Area',\n",
      "       'Glazing Area Distribution', 'Cooling Load'],\n",
      "      dtype='object')\n"
     ]
    }
   ],
   "source": [
    "def get_onehot(df, name):\n",
    "    A = df[name].values\n",
    "    n = A.shape[0]\n",
    "    onehot_A = np.zeros((n,max(A)-min(A)+1))\n",
    "    onehot_A[np.arange(n), A-min(A)] = 1\n",
    "    return onehot_A\n",
    "\n",
    "def normalize(X):\n",
    "    s = [ np.mean(dim) for dim in X.T]\n",
    "    X = np.asarray([np.divide(x, s) for x in X])\n",
    "    return X\n",
    "\n",
    "O = get_onehot(df, \"Orientation\")\n",
    "G = get_onehot(df, \"Glazing Area Distribution\")\n",
    "y = df[\"Heating Load\"].values.reshape((-1,1))\n",
    "Other_df = df.drop(['Orientation', 'Glazing Area Distribution', \"Heating Load\"], axis=1)\n",
    "\n",
    "n_feature = df.values.shape[1]-1\n",
    "\n",
    "Xs = []\n",
    "\n",
    "dropc = df.drop([\"Heating Load\"], axis=1).columns\n",
    "print(dropc)\n",
    "\n",
    "for col in dropc: #drop 1 except for heating load\n",
    "    #print(col)\n",
    "    if not col in ['Orientation', 'Glazing Area Distribution', \"Heating Load\"]:\n",
    "        TMP = Other_df.drop([col], axis=1) #print(TMP)\n",
    "    Xi = normalize(TMP.values)\n",
    "    if col != 'Orientation':\n",
    "        Xi = np.c_[Xi, O]\n",
    "    if col != 'Glazing Area Distribution':\n",
    "        Xi = np.c_[Xi, G]\n",
    "    Xs.append(Xi)\n",
    "\n",
    "assert(len(Xs) == n_feature)\n",
    "\n",
    "def partition(X, y, ratio=0.75):\n",
    "    n = X.shape[0]\n",
    "    indices = np.arange(n)\n",
    "    np.random.shuffle(indices)\n",
    "    X = X[indices]\n",
    "    y = y[indices]\n",
    "    p = int(n*ratio)\n",
    "    train_X = X[:p]\n",
    "    test_X = X[p:]\n",
    "    train_y = y[:p]\n",
    "    test_y = y[p:]\n",
    "    return train_X, train_y, test_X, test_y\n",
    "\n",
    "#train_X, train_y, test_X, test_y = partition(X, y, ratio=0.75)"
   ]
  },
  {
   "cell_type": "code",
   "execution_count": 30,
   "metadata": {},
   "outputs": [
    {
     "name": "stdout",
     "output_type": "stream",
     "text": [
      "EXP #1\n",
      "EXP #2\n",
      "EXP #3\n",
      "EXP #4\n",
      "EXP #5\n",
      "EXP #6\n",
      "EXP #7\n",
      "EXP #8\n",
      "EXP #9\n",
      "EXP #10\n"
     ]
    }
   ],
   "source": [
    "experiment_times = 10\n",
    "epochs = 500\n",
    "batch_size = 10\n",
    "lr = 0.08\n",
    "\n",
    "SumOftestRMSs = np.zeros(n_feature)\n",
    "NNs = []\n",
    "trainRMSs = []\n",
    "testRMSs = []\n",
    "LCs = []\n",
    "\n",
    "for T in range(experiment_times):\n",
    "    NNs = []\n",
    "    trainRMSs = []\n",
    "    testRMSs = []\n",
    "    LCs = []\n",
    "    print(\"EXP #{}\".format(T+1))\n",
    "    for i in range(n_feature):\n",
    "        #print(\"trainning Network with feature \", dropc[i], \" dropped\")\n",
    "        train_X, train_y, test_X, test_y = partition(Xs[i], y, ratio=0.75)\n",
    "        #check change rate to ensure trained network is valid\n",
    "        diff, eps = 0, 0.03\n",
    "        r, Mr = 0, 3\n",
    "        savecurve = []\n",
    "        saveNNi = None\n",
    "        minRMS = 100.\n",
    "        while diff < eps and r < Mr:\n",
    "            r += 1\n",
    "            NNi = NN([Xs[i].shape[1], 10, 5, 1],activations=['sigmoid', 'sigmoid', 'linear'], usage = 'regression')\n",
    "            learning_curve = NNi.train(train_X, train_y, epochs=epochs, batch_size=batch_size, lr = lr)\n",
    "            diff = (learning_curve[0] - learning_curve[-1])/learning_curve[-1]\n",
    "            if learning_curve[-1] < minRMS:\n",
    "                savecurve = learning_curve\n",
    "                minRMS = learning_curve[-1]\n",
    "                saveNNi = NNi\n",
    "                \n",
    "        LCs.append(savecurve)\n",
    "        trainRMSs.append(saveNNi.calc_error(train_X, train_y))\n",
    "        testRMSs.append(saveNNi.calc_error(test_X, test_y))\n",
    "        NNs.append(saveNNi)\n",
    "        SumOftestRMSs[i] += testRMSs[i]\n",
    "    "
   ]
  },
  {
   "cell_type": "code",
   "execution_count": 34,
   "metadata": {},
   "outputs": [
    {
     "name": "stdout",
     "output_type": "stream",
     "text": [
      "importance ranking: (measurement = avg test RMS over 10 experiments)\n",
      "Glazing Area Distribution 1.9636342650841616\n",
      "Glazing Area 1.5541616688745346\n",
      "Cooling Load 1.453779166166917\n",
      "Roof Area 1.2235254902579185\n",
      "Surface Area 1.1916754302488417\n",
      "Wall Area 1.1290687148035499\n",
      "Overall Height 1.1114369513207476\n",
      "Relative Compactness 1.1095003688360312\n",
      "Orientation 0.8525229558428814\n"
     ]
    },
    {
     "data": {
      "image/png": "[encoded data removed]",
      "text/plain": [
       "<Figure size 432x288 with 1 Axes>"
      ]
     },
     "metadata": {
      "needs_background": "light"
     },
     "output_type": "display_data"
    }
   ],
   "source": [
    "for i in range(n_feature):\n",
    "    #print(\"Case #{}:\".format(i+1))\n",
    "    #print(\"take off feature \", dropc[i])\n",
    "    plt.title(\"learning curve with 1 take out feature\")\n",
    "    plt.plot(np.arange(len(LCs[i])), LCs[i], label=dropc[i])\n",
    "    plt.legend(loc='upper right')\n",
    "    #print('train_RMS = ', trainRMSs[i], '\\n', 'test_RMS = ', testRMSs[i])\n",
    "    #print('mean test_RMS = ', SumOftestRMSs[i]/experiment_times)\n",
    "plt.savefig('./plts/exp_result.png')\n",
    "\n",
    "assert(len(testRMSs) == len(dropc))\n",
    "#print(dropc)\n",
    "#print(sorted(testRMSs))\n",
    "#importance = dropc[sorted(range(len(testRMSs)), key=lambda x: testRMSs[x], reverse = True)]\n",
    "importance = dropc[sorted(range(SumOftestRMSs.shape[0]), key=lambda x: SumOftestRMSs[x], reverse = True)]\n",
    "print(\"importance ranking: (measurement = avg test RMS over 10 experiments)\")\n",
    "for item, i  in zip(list(importance), sorted(range(SumOftestRMSs.shape[0]), key=lambda x: SumOftestRMSs[x], reverse = True)):\n",
    "    print(item, SumOftestRMSs[i]/experiment_times)"
   ]
  },
  {
   "cell_type": "code",
   "execution_count": 35,
   "metadata": {},
   "outputs": [
    {
     "name": "stdout",
     "output_type": "stream",
     "text": [
      "\n",
      "Model top5\n",
      "train_RMS =  1.020893346801667 \n",
      " test_RMS =  1.1857125109340663\n",
      "\n",
      "Model ALL\n",
      "train_RMS =  0.7040221423041952 \n",
      " test_RMS =  1.1793328653907797\n"
     ]
    }
   ],
   "source": [
    "feature_selected = list(importance)[:5]\n",
    "\n",
    "df_selected = Other_df\n",
    "X_selected = None\n",
    "\n",
    "for col in df.columns: #drop 1 except for heating load\n",
    "    #print(col)\n",
    "    if not col in feature_selected + ['Orientation', 'Glazing Area Distribution', 'Heating Load']:\n",
    "        df_selected = df_selected.drop([col], axis=1) #print(TMP)\n",
    "        \n",
    "X_selected = normalize(df_selected.values)\n",
    "if 'Orientation' in feature_selected:\n",
    "    X_selected = np.c_[X_selected, O]\n",
    "if 'Glazing Area Distribution' in feature_selected:\n",
    "    X_selected = np.c_[X_selected, G]\n",
    "    \n",
    "train_X, train_y, test_X, test_y = partition(X_selected, y, ratio=0.75)\n",
    "\n",
    "epochs = 500\n",
    "batch_size = 10\n",
    "lr = 0.08\n",
    "\n",
    "nn = NN([X_selected.shape[1], 10, 5, 1],activations=['sigmoid', 'sigmoid', 'linear'], usage = 'regression')\n",
    "#the network architecture is as the constructer\n",
    "\n",
    "learning_curve = nn.train(train_X, train_y, epochs=epochs, batch_size=batch_size, lr = lr)\n",
    "train_RMS = nn.calc_error(train_X, train_y)\n",
    "test_RMS = nn.calc_error(test_X, test_y)\n",
    "print(\"\\nModel top5\")\n",
    "print('train_RMS = ', train_RMS, '\\n', 'test_RMS = ', test_RMS)\n",
    "\n",
    "Other = df.drop(['Orientation', 'Glazing Area Distribution', \"Heating Load\"], axis=1).values\n",
    "X = np.c_[normalize(Other), O, G]\n",
    "train_X, train_y, test_X, test_y = partition(X, y, ratio=0.75)\n",
    "\n",
    "nnall = NN([X.shape[1], 10, 5, 1],activations=['sigmoid', 'sigmoid', 'linear'], usage = 'regression')\n",
    "#the network architecture is as the constructer\n",
    "learning_curve2 = nnall.train(train_X, train_y, epochs=epochs, batch_size=batch_size, lr = lr)\n",
    "train_RMS2 = nnall.calc_error(train_X, train_y)\n",
    "test_RMS2 = nnall.calc_error(test_X, test_y)\n",
    "\n",
    "print(\"\\nModel ALL\")\n",
    "print('train_RMS = ', train_RMS2, '\\n', 'test_RMS = ', test_RMS2)"
   ]
  },
  {
   "cell_type": "code",
   "execution_count": 36,
   "metadata": {},
   "outputs": [
    {
     "name": "stdout",
     "output_type": "stream",
     "text": [
      "\n",
      "Model top5\n",
      "train_RMS =  1.020893346801667 \n",
      " test_RMS =  1.1857125109340663\n",
      "\n",
      "Model ALL\n",
      "train_RMS =  0.7040221423041952 \n",
      " test_RMS =  1.1793328653907797\n"
     ]
    },
    {
     "data": {
      "image/png": "[encoded data removed]",
      "text/plain": [
       "<Figure size 432x288 with 1 Axes>"
      ]
     },
     "metadata": {
      "needs_background": "light"
     },
     "output_type": "display_data"
    }
   ],
   "source": [
    "print(\"\\nModel top5\")\n",
    "print('train_RMS = ', train_RMS, '\\n', 'test_RMS = ', test_RMS)\n",
    "print(\"\\nModel ALL\")\n",
    "print('train_RMS = ', train_RMS2, '\\n', 'test_RMS = ', test_RMS2)\n",
    "\n",
    "plt.title(\"model with top 5 feature/all features\")\n",
    "plt.plot(np.arange(len(learning_curve)), learning_curve, label='top 5')\n",
    "plt.plot(np.arange(len(learning_curve2)), learning_curve2, label='all')\n",
    "plt.legend(loc='upper right')\n",
    "plt.savefig('./plts/exp_validation.png')\n"
   ]
  },
  {
   "cell_type": "code",
   "execution_count": 37,
   "metadata": {},
   "outputs": [
    {
     "name": "stdout",
     "output_type": "stream",
     "text": [
      "top 5 feature selected by the measurment can do almost as good as all feature model\n"
     ]
    }
   ],
   "source": [
    "print('top 5 feature selected by the measurment can do almost as good as all feature model')"
   ]
  },
  {
   "cell_type": "code",
   "execution_count": null,
   "metadata": {},
   "outputs": [],
   "source": []
  }
 ],
 "metadata": {
  "kernelspec": {
   "display_name": "Python 3",
   "language": "python",
   "name": "python3"
  },
  "language_info": {
   "codemirror_mode": {
    "name": "ipython",
    "version": 3
   },
   "file_extension": ".py",
   "mimetype": "text/x-python",
   "name": "python",
   "nbconvert_exporter": "python",
   "pygments_lexer": "ipython3",
   "version": "3.7.4"
  }
 },
 "nbformat": 4,
 "nbformat_minor": 2
}
