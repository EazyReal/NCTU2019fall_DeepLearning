{
 "cells": [
  {
   "cell_type": "code",
   "execution_count": 1,
   "metadata": {},
   "outputs": [],
   "source": [
    "#author = 0712238@NCTU, Maxwill Lin, YT Lin\n",
    "#last update = 2019.11.07\n",
    "#usage = HW1 of Deep Learning 2019 fall @ NCTU \n",
    "#regression part \n",
    "#preprocess with normaliztion and one-hot vectorization\n",
    "#NN architectur = NN([17, 10, 5, 1],activations=['sigmoid', 'sigmoid', 'relu'], usage = 'regression')\n",
    "#train and test with split data set\n",
    "#learning curve + train/test RMS\n",
    "#save files\n",
    "\n",
    "#2019.11.06-07 some bug fixed, improvement on weight init, experiments\n",
    "#2019.11.07 fix relu last activation cause 0 gradient bug, experiment on lr \n",
    "#todo : fix selu numerical error"
   ]
  },
  {
   "cell_type": "code",
   "execution_count": 2,
   "metadata": {},
   "outputs": [],
   "source": [
    "import numpy as np\n",
    "import math\n",
    "import pandas as pd\n",
    "from model import *\n",
    "import csv\n",
    "import matplotlib.pyplot as plt\n",
    "import pickle"
   ]
  },
  {
   "cell_type": "code",
   "execution_count": 3,
   "metadata": {},
   "outputs": [
    {
     "data": {
      "text/plain": [
       "(768, 10)"
      ]
     },
     "execution_count": 3,
     "metadata": {},
     "output_type": "execute_result"
    }
   ],
   "source": [
    "#preprocessing\n",
    "df = pd.read_csv(\"EnergyEfficiency_data.csv\")\n",
    "df.values.shape"
   ]
  },
  {
   "cell_type": "code",
   "execution_count": 4,
   "metadata": {},
   "outputs": [],
   "source": [
    "def get_onehot(df, name):\n",
    "    A = df[name].values\n",
    "    n = A.shape[0]\n",
    "    onehot_A = np.zeros((n,max(A)-min(A)+1))\n",
    "    onehot_A[np.arange(n), A-min(A)] = 1\n",
    "    return onehot_A\n",
    "\n",
    "def normalize(X):\n",
    "    s = [ np.mean(dim) for dim in X.T]\n",
    "    X = np.asarray([np.divide(x, s) for x in X])\n",
    "    return X\n",
    "\n",
    "O = get_onehot(df, \"Orientation\")\n",
    "G = get_onehot(df, \"Glazing Area Distribution\")\n",
    "y = df[\"Heating Load\"].values.reshape((-1,1))\n",
    "y.shape\n",
    "Other = df.drop(['Orientation', 'Glazing Area Distribution', \"Heating Load\"], axis=1).values\n",
    "\n",
    "X = np.c_[normalize(Other), O, G]\n",
    "assert(X.shape[1] == O.shape[1]+G.shape[1]+Other.shape[1])\n",
    "\n",
    "def partition(X, y, ratio=0.75):\n",
    "    n = X.shape[0]\n",
    "    indices = np.arange(n)\n",
    "    np.random.shuffle(indices)\n",
    "    X = X[indices]\n",
    "    y = y[indices]\n",
    "    p = int(n*ratio)\n",
    "    train_X, test_X = X[:p], X[p:]\n",
    "    train_y, test_y = y[:p], y[p:]\n",
    "    return train_X, train_y, test_X, test_y\n",
    "\n",
    "train_X, train_y, test_X, test_y = partition(X, y, ratio=0.75)"
   ]
  },
  {
   "cell_type": "code",
   "execution_count": 12,
   "metadata": {},
   "outputs": [
    {
     "name": "stdout",
     "output_type": "stream",
     "text": [
      "(576, 17)\n",
      "train_RMS =  0.654207431054541 \n",
      " test_RMS =  1.1595441303093315\n"
     ]
    },
    {
     "data": {
      "text/plain": [
       "1000"
      ]
     },
     "execution_count": 12,
     "metadata": {},
     "output_type": "execute_result"
    },
    {
     "data": {
      "image/png": "[encoded data removed]",
      "text/plain": [
       "<Figure size 432x288 with 1 Axes>"
      ]
     },
     "metadata": {
      "needs_background": "light"
     },
     "output_type": "display_data"
    }
   ],
   "source": [
    "nn = NN([train_X.shape[1], 10, 5,  1],activations=['sigmoid', 'sigmoid', 'linear'], usage = 'regression')\n",
    "#the network architecture is as the constructer\n",
    "\n",
    "lr = .08\n",
    "batch_size = 10\n",
    "epchos = 1000\n",
    "#epoch*train_X.shape[0] ~= 10*VC dimension\n",
    "print(train_X.shape)\n",
    "learning_curve = nn.train(train_X, train_y, batch_size=batch_size, epochs=epchos, lr = lr)\n",
    "#lr = 0.5 => too large, 0.1 => ok, 0.01 =>  smooth and as good as 0.1\n",
    "\n",
    "train_RMS = nn.calc_error(train_X, train_y)\n",
    "test_RMS = nn.calc_error(test_X, test_y)\n",
    "\n",
    "plt.title(\"learning cure with lr={}\".format(lr))\n",
    "plt.xlabel(\"Epoch(s)\")\n",
    "plt.ylabel(\"Training RMS\")\n",
    "plt.plot(np.arange(len(learning_curve)), learning_curve, label='lr={}'.format(lr))\n",
    "plt.legend(loc=0)\n",
    "print('train_RMS = ', train_RMS, '\\n', 'test_RMS = ', test_RMS)\n",
    "\n",
    "#improve weight initialization by Xavier/HE Init \n",
    "#i.e. self.weights.append(np.random.randn(layers[i+1], layers[i])*np.sqrt(layers[i])/2.)\n",
    "#train_RMS =  24.520031677634964 (0 grad(<0.001) verified by assert(assert(np.linalg.norm(dw[i]) > eps)) )\n",
    "len(learning_curve)"
   ]
  },
  {
   "cell_type": "code",
   "execution_count": 20,
   "metadata": {},
   "outputs": [
    {
     "name": "stdout",
     "output_type": "stream",
     "text": [
      "exp # 0 exp # 1 exp # 2 exp # 3 exp # 4 exp # 5 exp # 6 exp # 7 exp # 8 exp # 9 "
     ]
    }
   ],
   "source": [
    "#experiments on learning rate\n",
    "lrs = [0.01, 0.05, 0.08, 0.1, 0.15, 0.5]\n",
    "exp_times = 10\n",
    "batch_size = 10\n",
    "epochs = 200\n",
    "\n",
    "n = len(lrs)\n",
    "avg_lc = [[0.]*epochs]*n\n",
    "avg_train_RMS = [0.]*n\n",
    "avg_test_RMS = [0.]*n\n",
    "\n",
    "\n",
    "for T in range(exp_times):\n",
    "    print(\"exp #\", T, end=' ')\n",
    "    train_X, train_y, test_X, test_y = partition(X, y, ratio=0.75)\n",
    "    for i in range(n):\n",
    "        #test lr with model [in , 10, 5, 1], sig, sig, linear\n",
    "        #lr = 0.5 => too large, 0.1 => ok, 0.01 =>  smooth and as good as 0.1\n",
    "        nn = NN([train_X.shape[1], 10, 5,  1],activations=['sigmoid', 'sigmoid', 'linear'], usage = 'regression')\n",
    "        learning_curve = nn.train(train_X, train_y, batch_size=10, epochs=epochs, lr = lrs[i])\n",
    "        train_RMS = nn.calc_error(train_X, train_y)\n",
    "        test_RMS = nn.calc_error(test_X, test_y)\n",
    "        \n",
    "        avg_lc[i] = [avg_lc[i][k] + learning_curve[k] for k in range(len(avg_lc[i]))]\n",
    "        avg_train_RMS[i] += train_RMS\n",
    "        avg_test_RMS[i] += test_RMS\n"
   ]
  },
  {
   "cell_type": "code",
   "execution_count": 29,
   "metadata": {},
   "outputs": [],
   "source": [
    "#avg_lc = [[y*exp_times for y in x] for x in avg_lc]      \n",
    "#avg_train_RMS = [x*exp_times for x in avg_train_RMS]|\n",
    "#avg_test_RMS = [x*exp_times for x in avg_test_RMS]\n",
    "#for reverting excution result cause value to decay"
   ]
  },
  {
   "cell_type": "code",
   "execution_count": 28,
   "metadata": {},
   "outputs": [
    {
     "name": "stdout",
     "output_type": "stream",
     "text": [
      "lr = 0.01\n",
      " train_RMS =  1.381877604779393  test_RMS =  1.519510049561133\n",
      "lr = 0.05\n",
      " train_RMS =  1.3833931214752926  test_RMS =  1.6506491425169938\n",
      "lr = 0.08\n",
      " train_RMS =  1.189949610556438  test_RMS =  1.550752142984839\n",
      "lr = 0.1\n",
      " train_RMS =  1.2128258210729197  test_RMS =  1.503418898218476\n",
      "lr = 0.15\n",
      " train_RMS =  1.454553046952772  test_RMS =  1.7669272807583234\n",
      "lr = 0.5\n",
      " train_RMS =  10.627442920479515  test_RMS =  10.56892930004896\n"
     ]
    },
    {
     "data": {
      "text/plain": [
       "<matplotlib.legend.Legend at 0x1129cd790>"
      ]
     },
     "execution_count": 28,
     "metadata": {},
     "output_type": "execute_result"
    },
    {
     "data": {
      "image/png": "[encoded data removed]",
      "text/plain": [
       "<Figure size 432x288 with 1 Axes>"
      ]
     },
     "metadata": {
      "needs_background": "light"
     },
     "output_type": "display_data"
    }
   ],
   "source": [
    "avg_lc = [[y/exp_times for y in x] for x in avg_lc]      \n",
    "avg_train_RMS = [x/exp_times for x in avg_train_RMS]\n",
    "avg_test_RMS = [x/exp_times for x in avg_test_RMS]\n",
    "\n",
    "plt.title(\"learning curves of different lr(200 epochs)\")\n",
    "plt.xlabel(\"Epoch(s)\")\n",
    "plt.ylabel(\"train RMS\")\n",
    "\n",
    "for i in range(n):        \n",
    "    plt.plot(np.arange(len(avg_lc[i])), avg_lc[i], label='{}'.format(lrs[i]))\n",
    "    print('lr = '+ str(lrs[i]) +'\\n train_RMS = ', avg_train_RMS[i], ' test_RMS = ', avg_test_RMS[i])\n",
    "\n",
    "plt.legend() \n"
   ]
  },
  {
   "cell_type": "code",
   "execution_count": 23,
   "metadata": {},
   "outputs": [
    {
     "name": "stdout",
     "output_type": "stream",
     "text": [
      "exp # 0 exp # 1 exp # 2 exp # 3 exp # 4 "
     ]
    }
   ],
   "source": [
    "#experiments on learning rate\n",
    "lrs = [0.01, 0.05, 0.08, 0.1, 0.15, 0.5]\n",
    "exp_times = 5\n",
    "batch_size = 10\n",
    "epochs =100\n",
    "\n",
    "n = len(lrs)\n",
    "avg_lc = [[0.]*epochs]*n\n",
    "avg_train_RMS = [0.]*n\n",
    "avg_test_RMS = [0.]*n\n",
    "\n",
    "\n",
    "for T in range(exp_times):\n",
    "    print(\"exp #\", T, end=' ')\n",
    "    train_X, train_y, test_X, test_y = partition(X, y, ratio=0.75)\n",
    "    for i in range(n):\n",
    "        #test lr with model [in , 10, 5, 1], sig, sig, linear\n",
    "        #lr = 0.5 => too large, 0.1 => ok, 0.01 =>  smooth and as good as 0.1\n",
    "        nn = NN([train_X.shape[1], 10, 5,  1],activations=['sigmoid', 'sigmoid', 'linear'], usage = 'regression')\n",
    "        learning_curve = nn.train(train_X, train_y, batch_size=10, epochs=epochs, lr = lrs[i])\n",
    "        train_RMS = nn.calc_error(train_X, train_y)\n",
    "        test_RMS = nn.calc_error(test_X, test_y)\n",
    "        \n",
    "        avg_lc[i] = [avg_lc[i][k] + learning_curve[k] for k in range(len(avg_lc[i]))]\n",
    "        avg_train_RMS[i] += train_RMS\n",
    "        avg_test_RMS[i] += test_RMS\n"
   ]
  },
  {
   "cell_type": "code",
   "execution_count": 24,
   "metadata": {},
   "outputs": [
    {
     "name": "stdout",
     "output_type": "stream",
     "text": [
      "lr = 0.01\n",
      " train_RMS =  1.3818776047793928  test_RMS =  1.5195100495611331\n",
      "lr = 0.05\n",
      " train_RMS =  1.3833931214752926  test_RMS =  1.6506491425169938\n",
      "lr = 0.08\n",
      " train_RMS =  1.189949610556438  test_RMS =  1.550752142984839\n",
      "lr = 0.1\n",
      " train_RMS =  1.2128258210729197  test_RMS =  1.503418898218476\n",
      "lr = 0.15\n",
      " train_RMS =  1.454553046952772  test_RMS =  1.766927280758323\n",
      "lr = 0.5\n",
      " train_RMS =  10.627442920479515  test_RMS =  10.568929300048962\n"
     ]
    },
    {
     "data": {
      "text/plain": [
       "<matplotlib.legend.Legend at 0x1130509d0>"
      ]
     },
     "execution_count": 24,
     "metadata": {},
     "output_type": "execute_result"
    },
    {
     "data": {
      "image/png": "[encoded data removed]",
      "text/plain": [
       "<Figure size 432x288 with 1 Axes>"
      ]
     },
     "metadata": {
      "needs_background": "light"
     },
     "output_type": "display_data"
    }
   ],
   "source": [
    "avg_lc = [[y/exp_times for y in x] for x in avg_lc]      \n",
    "avg_train_RMS = [x/exp_times for x in avg_train_RMS]\n",
    "avg_test_RMS = [x/exp_times for x in avg_test_RMS]\n",
    "\n",
    "plt.title(\"learning curves of different lr(100 epochs)\")\n",
    "plt.xlabel(\"Epoch(s)\")\n",
    "plt.ylabel(\"train RMS\")\n",
    "\n",
    "for i in range(n):        \n",
    "    plt.plot(np.arange(len(avg_lc[i])), avg_lc[i], label='{}'.format(lrs[i]))\n",
    "    print('lr = '+ str(lrs[i]) +'\\n train_RMS = ', avg_train_RMS[i], ' test_RMS = ', avg_test_RMS[i])\n",
    "\n",
    "plt.legend() "
   ]
  },
  {
   "cell_type": "code",
   "execution_count": 24,
   "metadata": {},
   "outputs": [],
   "source": [
    "def save_res(name):\n",
    "    pathcsv = \"./predictions/\"\n",
    "    reg_train_csv = pathcsv + \"reg_train_pred_\"+name+\".csv\" \n",
    "    reg_test_csv = pathcsv + \"reg_test_pred_\"+name+\".csv\" \n",
    "    with open(reg_train_csv, 'w', newline='') as csvFile:\n",
    "        writer = csv.writer(csvFile)\n",
    "        writer.writerow(['prediction', 'label'])\n",
    "        for i in range(train_X.shape[0]):\n",
    "            writer.writerow([nn.prediction(np.asarray([train_X[i]]))[0][0], train_y[i][0]])\n",
    "    with open(reg_test_csv, 'w', newline='') as csvFile:\n",
    "        writer = csv.writer(csvFile)\n",
    "        writer.writerow(['prediction', 'label'])\n",
    "        for i in range(test_X.shape[0]):\n",
    "            writer.writerow([nn.prediction(np.asarray([test_X[i]]))[0][0], test_y[i][0]])\n",
    "            \n",
    "    pathnn = \"./savedmodels/\"\n",
    "    savefilename = pathnn +\"reg_nn_\"+name\n",
    "    with open(savefilename, 'wb') as fo:\n",
    "        pickle.dump(nn, fo)\n",
    "\n",
    "save_res(\"1107-1\")"
   ]
  },
  {
   "cell_type": "code",
   "execution_count": null,
   "metadata": {},
   "outputs": [],
   "source": []
  },
  {
   "cell_type": "code",
   "execution_count": null,
   "metadata": {},
   "outputs": [],
   "source": []
  }
 ],
 "metadata": {
  "kernelspec": {
   "display_name": "Python 3",
   "language": "python",
   "name": "python3"
  },
  "language_info": {
   "codemirror_mode": {
    "name": "ipython",
    "version": 3
   },
   "file_extension": ".py",
   "mimetype": "text/x-python",
   "name": "python",
   "nbconvert_exporter": "python",
   "pygments_lexer": "ipython3",
   "version": "3.7.4"
  }
 },
 "nbformat": 4,
 "nbformat_minor": 2
}
