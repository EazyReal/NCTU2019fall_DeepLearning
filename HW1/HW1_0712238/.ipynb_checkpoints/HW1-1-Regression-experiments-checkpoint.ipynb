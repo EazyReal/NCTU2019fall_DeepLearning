{
 "cells": [
  {
   "cell_type": "code",
   "execution_count": 5,
   "metadata": {},
   "outputs": [],
   "source": [
    "#author = 0712238@NCTU, Maxwill Lin, YT Lin\n",
    "#last update = 2019.11.6\n",
    "#usage = HW1 of Deep Learning 2019 fall @ NCTU \n",
    "#regression experiments\n",
    "#preprocess with normaliztion and one-hot vectorization\n",
    "#NN architectur = NN([exp, 9, 5, 1],activations=['sigmoid', 'sigmoid', 'relu'], usage = 'regression')\n",
    "#train and test with split data set\n",
    "#learning curve + train/test RMS\n",
    "#save files"
   ]
  },
  {
   "cell_type": "code",
   "execution_count": 8,
   "metadata": {},
   "outputs": [],
   "source": [
    "import numpy as np\n",
    "import math\n",
    "import pandas as pd\n",
    "from model import *\n",
    "import csv\n",
    "import matplotlib.pyplot as plt\n",
    "import pickle"
   ]
  },
  {
   "cell_type": "code",
   "execution_count": 9,
   "metadata": {},
   "outputs": [
    {
     "data": {
      "text/html": [
       "<div>\n",
       "<style scoped>\n",
       "    .dataframe tbody tr th:only-of-type {\n",
       "        vertical-align: middle;\n",
       "    }\n",
       "\n",
       "    .dataframe tbody tr th {\n",
       "        vertical-align: top;\n",
       "    }\n",
       "\n",
       "    .dataframe thead th {\n",
       "        text-align: right;\n",
       "    }\n",
       "</style>\n",
       "<table border=\"1\" class=\"dataframe\">\n",
       "  <thead>\n",
       "    <tr style=\"text-align: right;\">\n",
       "      <th></th>\n",
       "      <th>Relative Compactness</th>\n",
       "      <th>Surface Area</th>\n",
       "      <th>Wall Area</th>\n",
       "      <th>Roof Area</th>\n",
       "      <th>Overall Height</th>\n",
       "      <th>Orientation</th>\n",
       "      <th>Glazing Area</th>\n",
       "      <th>Glazing Area Distribution</th>\n",
       "      <th>Heating Load</th>\n",
       "      <th>Cooling Load</th>\n",
       "    </tr>\n",
       "  </thead>\n",
       "  <tbody>\n",
       "    <tr>\n",
       "      <td>0</td>\n",
       "      <td>0.98</td>\n",
       "      <td>514.5</td>\n",
       "      <td>294.0</td>\n",
       "      <td>110.25</td>\n",
       "      <td>7.0</td>\n",
       "      <td>2</td>\n",
       "      <td>0.0</td>\n",
       "      <td>0</td>\n",
       "      <td>15.55</td>\n",
       "      <td>21.33</td>\n",
       "    </tr>\n",
       "    <tr>\n",
       "      <td>1</td>\n",
       "      <td>0.98</td>\n",
       "      <td>514.5</td>\n",
       "      <td>294.0</td>\n",
       "      <td>110.25</td>\n",
       "      <td>7.0</td>\n",
       "      <td>3</td>\n",
       "      <td>0.0</td>\n",
       "      <td>0</td>\n",
       "      <td>15.55</td>\n",
       "      <td>21.33</td>\n",
       "    </tr>\n",
       "    <tr>\n",
       "      <td>2</td>\n",
       "      <td>0.98</td>\n",
       "      <td>514.5</td>\n",
       "      <td>294.0</td>\n",
       "      <td>110.25</td>\n",
       "      <td>7.0</td>\n",
       "      <td>4</td>\n",
       "      <td>0.0</td>\n",
       "      <td>0</td>\n",
       "      <td>15.55</td>\n",
       "      <td>21.33</td>\n",
       "    </tr>\n",
       "    <tr>\n",
       "      <td>3</td>\n",
       "      <td>0.98</td>\n",
       "      <td>514.5</td>\n",
       "      <td>294.0</td>\n",
       "      <td>110.25</td>\n",
       "      <td>7.0</td>\n",
       "      <td>5</td>\n",
       "      <td>0.0</td>\n",
       "      <td>0</td>\n",
       "      <td>15.55</td>\n",
       "      <td>21.33</td>\n",
       "    </tr>\n",
       "    <tr>\n",
       "      <td>4</td>\n",
       "      <td>0.90</td>\n",
       "      <td>563.5</td>\n",
       "      <td>318.5</td>\n",
       "      <td>122.50</td>\n",
       "      <td>7.0</td>\n",
       "      <td>2</td>\n",
       "      <td>0.0</td>\n",
       "      <td>0</td>\n",
       "      <td>20.84</td>\n",
       "      <td>28.28</td>\n",
       "    </tr>\n",
       "    <tr>\n",
       "      <td>...</td>\n",
       "      <td>...</td>\n",
       "      <td>...</td>\n",
       "      <td>...</td>\n",
       "      <td>...</td>\n",
       "      <td>...</td>\n",
       "      <td>...</td>\n",
       "      <td>...</td>\n",
       "      <td>...</td>\n",
       "      <td>...</td>\n",
       "      <td>...</td>\n",
       "    </tr>\n",
       "    <tr>\n",
       "      <td>763</td>\n",
       "      <td>0.64</td>\n",
       "      <td>784.0</td>\n",
       "      <td>343.0</td>\n",
       "      <td>220.50</td>\n",
       "      <td>3.5</td>\n",
       "      <td>5</td>\n",
       "      <td>0.4</td>\n",
       "      <td>5</td>\n",
       "      <td>17.88</td>\n",
       "      <td>21.40</td>\n",
       "    </tr>\n",
       "    <tr>\n",
       "      <td>764</td>\n",
       "      <td>0.62</td>\n",
       "      <td>808.5</td>\n",
       "      <td>367.5</td>\n",
       "      <td>220.50</td>\n",
       "      <td>3.5</td>\n",
       "      <td>2</td>\n",
       "      <td>0.4</td>\n",
       "      <td>5</td>\n",
       "      <td>16.54</td>\n",
       "      <td>16.88</td>\n",
       "    </tr>\n",
       "    <tr>\n",
       "      <td>765</td>\n",
       "      <td>0.62</td>\n",
       "      <td>808.5</td>\n",
       "      <td>367.5</td>\n",
       "      <td>220.50</td>\n",
       "      <td>3.5</td>\n",
       "      <td>3</td>\n",
       "      <td>0.4</td>\n",
       "      <td>5</td>\n",
       "      <td>16.44</td>\n",
       "      <td>17.11</td>\n",
       "    </tr>\n",
       "    <tr>\n",
       "      <td>766</td>\n",
       "      <td>0.62</td>\n",
       "      <td>808.5</td>\n",
       "      <td>367.5</td>\n",
       "      <td>220.50</td>\n",
       "      <td>3.5</td>\n",
       "      <td>4</td>\n",
       "      <td>0.4</td>\n",
       "      <td>5</td>\n",
       "      <td>16.48</td>\n",
       "      <td>16.61</td>\n",
       "    </tr>\n",
       "    <tr>\n",
       "      <td>767</td>\n",
       "      <td>0.62</td>\n",
       "      <td>808.5</td>\n",
       "      <td>367.5</td>\n",
       "      <td>220.50</td>\n",
       "      <td>3.5</td>\n",
       "      <td>5</td>\n",
       "      <td>0.4</td>\n",
       "      <td>5</td>\n",
       "      <td>16.64</td>\n",
       "      <td>16.03</td>\n",
       "    </tr>\n",
       "  </tbody>\n",
       "</table>\n",
       "<p>768 rows × 10 columns</p>\n",
       "</div>"
      ],
      "text/plain": [
       "     Relative Compactness  Surface Area  Wall Area  Roof Area  Overall Height  \\\n",
       "0                    0.98         514.5      294.0     110.25             7.0   \n",
       "1                    0.98         514.5      294.0     110.25             7.0   \n",
       "2                    0.98         514.5      294.0     110.25             7.0   \n",
       "3                    0.98         514.5      294.0     110.25             7.0   \n",
       "4                    0.90         563.5      318.5     122.50             7.0   \n",
       "..                    ...           ...        ...        ...             ...   \n",
       "763                  0.64         784.0      343.0     220.50             3.5   \n",
       "764                  0.62         808.5      367.5     220.50             3.5   \n",
       "765                  0.62         808.5      367.5     220.50             3.5   \n",
       "766                  0.62         808.5      367.5     220.50             3.5   \n",
       "767                  0.62         808.5      367.5     220.50             3.5   \n",
       "\n",
       "     Orientation  Glazing Area  Glazing Area Distribution  Heating Load  \\\n",
       "0              2           0.0                          0         15.55   \n",
       "1              3           0.0                          0         15.55   \n",
       "2              4           0.0                          0         15.55   \n",
       "3              5           0.0                          0         15.55   \n",
       "4              2           0.0                          0         20.84   \n",
       "..           ...           ...                        ...           ...   \n",
       "763            5           0.4                          5         17.88   \n",
       "764            2           0.4                          5         16.54   \n",
       "765            3           0.4                          5         16.44   \n",
       "766            4           0.4                          5         16.48   \n",
       "767            5           0.4                          5         16.64   \n",
       "\n",
       "     Cooling Load  \n",
       "0           21.33  \n",
       "1           21.33  \n",
       "2           21.33  \n",
       "3           21.33  \n",
       "4           28.28  \n",
       "..            ...  \n",
       "763         21.40  \n",
       "764         16.88  \n",
       "765         17.11  \n",
       "766         16.61  \n",
       "767         16.03  \n",
       "\n",
       "[768 rows x 10 columns]"
      ]
     },
     "execution_count": 9,
     "metadata": {},
     "output_type": "execute_result"
    }
   ],
   "source": [
    "#preprocessing\n",
    "df = pd.read_csv(\"EnergyEfficiency_data.csv\")\n",
    "df"
   ]
  },
  {
   "cell_type": "code",
   "execution_count": 10,
   "metadata": {},
   "outputs": [
    {
     "name": "stdout",
     "output_type": "stream",
     "text": [
      "Index(['Relative Compactness', 'Surface Area', 'Wall Area', 'Roof Area',\n",
      "       'Overall Height', 'Orientation', 'Glazing Area',\n",
      "       'Glazing Area Distribution', 'Cooling Load'],\n",
      "      dtype='object')\n"
     ]
    }
   ],
   "source": [
    "def get_onehot(df, name):\n",
    "    A = df[name].values\n",
    "    n = A.shape[0]\n",
    "    onehot_A = np.zeros((n,max(A)-min(A)+1))\n",
    "    onehot_A[np.arange(n), A-min(A)] = 1\n",
    "    return onehot_A\n",
    "\n",
    "def normalize(X):\n",
    "    s = [ np.mean(dim) for dim in X.T]\n",
    "    X = np.asarray([np.divide(x, s) for x in X])\n",
    "    return X\n",
    "\n",
    "O = get_onehot(df, \"Orientation\")\n",
    "G = get_onehot(df, \"Glazing Area Distribution\")\n",
    "y = df[\"Heating Load\"].values.reshape((-1,1))\n",
    "Other_df = df.drop(['Orientation', 'Glazing Area Distribution', \"Heating Load\"], axis=1)\n",
    "\n",
    "n_feature = df.values.shape[1]-1\n",
    "\n",
    "Xs = []\n",
    "\n",
    "dropc = df.drop([\"Heating Load\"], axis=1).columns\n",
    "print(dropc)\n",
    "\n",
    "for col in dropc: #drop 1 except for heating load\n",
    "    #print(col)\n",
    "    if not col in ['Orientation', 'Glazing Area Distribution', \"Heating Load\"]:\n",
    "        TMP = Other_df.drop([col], axis=1) #print(TMP)\n",
    "    Xi = TMP.values\n",
    "    if col != 'Orientation':\n",
    "        Xi = np.c_[Xi, O]\n",
    "    if col != 'Glazing Area Distribution':\n",
    "        Xi = np.c_[Xi, G]\n",
    "    Xs.append(Xi)\n",
    "\n",
    "assert(len(Xs) == n_feature)\n",
    "\n",
    "def partition(X, y, ratio=0.75):\n",
    "    n = X.shape[0]\n",
    "    indices = np.arange(n)\n",
    "    np.random.shuffle(indices)\n",
    "    X = X[indices]\n",
    "    y = y[indices]\n",
    "    p = int(n*ratio)\n",
    "    train_X = X[:p]\n",
    "    test_X = X[p:]\n",
    "    train_y = y[:p]\n",
    "    test_y = y[p:]\n",
    "    return train_X, train_y, test_X, test_y\n",
    "\n",
    "#train_X, train_y, test_X, test_y = partition(X, y, ratio=0.75)"
   ]
  },
  {
   "cell_type": "code",
   "execution_count": null,
   "metadata": {},
   "outputs": [],
   "source": [
    "experiment_times = 10\n",
    "\n",
    "SumOftestRMSs = np.zeros(n_feature)\n",
    "\n",
    "NNs = []\n",
    "trainRMSs = []\n",
    "testRMSs = []\n",
    "LCs = []\n",
    "\n",
    "for T in range(experiment_times):\n",
    "    NNs = []\n",
    "    trainRMSs = []\n",
    "    testRMSs = []\n",
    "    LCs = []\n",
    "    #print(\"EXP #{}\".format(T+1))\n",
    "    for i in range(n_feature):\n",
    "        #print(\"trainning Network with feature \", dropc[i], \" dropped\")\n",
    "\n",
    "        train_X, train_y, test_X, test_y = partition(Xs[i], y, ratio=0.75)\n",
    "        \n",
    "        #check change rate to ensure trained network is valid\n",
    "        diff = 0\n",
    "        eps = 0.03 \n",
    "        r = 0\n",
    "        Mr = 30\n",
    "        while diff < eps and r < Mr:\n",
    "            r += 1\n",
    "            NNi = NN([Xs[i].shape[1], 10, 5, 1],activations=['sigmoid', 'sigmoid', 'relu'], usage = 'regression')\n",
    "            learning_curve = NNi.train(train_X, train_y, epochs=80, batch_size=10, lr = .1)\n",
    "            diff = (learning_curve[0] - learning_curve[-1])/learning_curve[-1]\n",
    "            #if diff < eps and r >= Mr:\n",
    "            #    print(\"Warning: {} times of retry inintial params is not enough\".format(Mr))\n",
    "                \n",
    "        LCs.append(learning_curve)\n",
    "        trainRMSs.append(NNi.calc_error(train_X, train_y))\n",
    "        testRMSs.append(NNi.calc_error(test_X, test_y))\n",
    "        NNs.append(NNi)\n",
    "        SumOftestRMSs[i] += testRMSs[i]\n",
    "    "
   ]
  },
  {
   "cell_type": "code",
   "execution_count": 12,
   "metadata": {},
   "outputs": [
    {
     "name": "stdout",
     "output_type": "stream",
     "text": [
      "Case #1:\n",
      "take off feature  Relative Compactness\n"
     ]
    },
    {
     "ename": "NameError",
     "evalue": "name 'LCs' is not defined",
     "output_type": "error",
     "traceback": [
      "\u001b[0;31m---------------------------------------------------------------------------\u001b[0m",
      "\u001b[0;31mNameError\u001b[0m                                 Traceback (most recent call last)",
      "\u001b[0;32m<ipython-input-12-eafcc18ffd2c>\u001b[0m in \u001b[0;36m<module>\u001b[0;34m\u001b[0m\n\u001b[1;32m      2\u001b[0m     \u001b[0mprint\u001b[0m\u001b[0;34m(\u001b[0m\u001b[0;34m\"Case #{}:\"\u001b[0m\u001b[0;34m.\u001b[0m\u001b[0mformat\u001b[0m\u001b[0;34m(\u001b[0m\u001b[0mi\u001b[0m\u001b[0;34m+\u001b[0m\u001b[0;36m1\u001b[0m\u001b[0;34m)\u001b[0m\u001b[0;34m)\u001b[0m\u001b[0;34m\u001b[0m\u001b[0;34m\u001b[0m\u001b[0m\n\u001b[1;32m      3\u001b[0m     \u001b[0mprint\u001b[0m\u001b[0;34m(\u001b[0m\u001b[0;34m\"take off feature \"\u001b[0m\u001b[0;34m,\u001b[0m \u001b[0mdropc\u001b[0m\u001b[0;34m[\u001b[0m\u001b[0mi\u001b[0m\u001b[0;34m]\u001b[0m\u001b[0;34m)\u001b[0m\u001b[0;34m\u001b[0m\u001b[0;34m\u001b[0m\u001b[0m\n\u001b[0;32m----> 4\u001b[0;31m     \u001b[0mplt\u001b[0m\u001b[0;34m.\u001b[0m\u001b[0mplot\u001b[0m\u001b[0;34m(\u001b[0m\u001b[0mnp\u001b[0m\u001b[0;34m.\u001b[0m\u001b[0marange\u001b[0m\u001b[0;34m(\u001b[0m\u001b[0mlen\u001b[0m\u001b[0;34m(\u001b[0m\u001b[0mLCs\u001b[0m\u001b[0;34m[\u001b[0m\u001b[0mi\u001b[0m\u001b[0;34m]\u001b[0m\u001b[0;34m)\u001b[0m\u001b[0;34m)\u001b[0m\u001b[0;34m,\u001b[0m \u001b[0mLCs\u001b[0m\u001b[0;34m[\u001b[0m\u001b[0mi\u001b[0m\u001b[0;34m]\u001b[0m\u001b[0;34m)\u001b[0m\u001b[0;34m\u001b[0m\u001b[0;34m\u001b[0m\u001b[0m\n\u001b[0m\u001b[1;32m      5\u001b[0m     \u001b[0mprint\u001b[0m\u001b[0;34m(\u001b[0m\u001b[0;34m'train_RMS = '\u001b[0m\u001b[0;34m,\u001b[0m \u001b[0mtrainRMSs\u001b[0m\u001b[0;34m[\u001b[0m\u001b[0mi\u001b[0m\u001b[0;34m]\u001b[0m\u001b[0;34m,\u001b[0m \u001b[0;34m'\\n'\u001b[0m\u001b[0;34m,\u001b[0m \u001b[0;34m'test_RMS = '\u001b[0m\u001b[0;34m,\u001b[0m \u001b[0mtestRMSs\u001b[0m\u001b[0;34m[\u001b[0m\u001b[0mi\u001b[0m\u001b[0;34m]\u001b[0m\u001b[0;34m)\u001b[0m\u001b[0;34m\u001b[0m\u001b[0;34m\u001b[0m\u001b[0m\n\u001b[1;32m      6\u001b[0m     \u001b[0mprint\u001b[0m\u001b[0;34m(\u001b[0m\u001b[0;34m'mean test_RMS = '\u001b[0m\u001b[0;34m,\u001b[0m \u001b[0mSumOftestRMSs\u001b[0m\u001b[0;34m[\u001b[0m\u001b[0mi\u001b[0m\u001b[0;34m]\u001b[0m\u001b[0;34m/\u001b[0m\u001b[0mexperiment_times\u001b[0m\u001b[0;34m)\u001b[0m\u001b[0;34m\u001b[0m\u001b[0;34m\u001b[0m\u001b[0m\n",
      "\u001b[0;31mNameError\u001b[0m: name 'LCs' is not defined"
     ]
    }
   ],
   "source": [
    "for i in range(n_feature):\n",
    "    print(\"Case #{}:\".format(i+1))\n",
    "    print(\"take off feature \", dropc[i])\n",
    "    plt.plot(np.arange(len(LCs[i])), LCs[i])\n",
    "    print('train_RMS = ', trainRMSs[i], '\\n', 'test_RMS = ', testRMSs[i])\n",
    "    print('mean test_RMS = ', SumOftestRMSs[i]/experiment_times)\n",
    "\n",
    "assert(len(testRMSs) == len(dropc))\n",
    "#print(dropc)\n",
    "#print(sorted(testRMSs))\n",
    "#importance = dropc[sorted(range(len(testRMSs)), key=lambda x: testRMSs[x], reverse = True)]\n",
    "importance = dropc[sorted(range(SumOftestRMSs.shape[0]), key=lambda x: SumOftestRMSs[x], reverse = True)]\n",
    "print(\"importance ranking:\")\n",
    "print(importance)"
   ]
  },
  {
   "cell_type": "code",
   "execution_count": 38,
   "metadata": {},
   "outputs": [],
   "source": [
    "Xselect = df[importance[:5]].values"
   ]
  },
  {
   "cell_type": "code",
   "execution_count": 102,
   "metadata": {},
   "outputs": [
    {
     "name": "stdout",
     "output_type": "stream",
     "text": [
      "train_RMS =  0.6599468411249841 \n",
      " test_RMS =  0.8759862860697945\n"
     ]
    },
    {
     "data": {
      "image/png": "[encoded data removed]",
      "text/plain": [
       "<Figure size 432x288 with 1 Axes>"
      ]
     },
     "metadata": {
      "needs_background": "light"
     },
     "output_type": "display_data"
    }
   ],
   "source": [
    "nn = NN([Xselect.shape[1], 10, 10, 1],activations=['sigmoid', 'sigmoid', 'relu'], usage = 'regression')\n",
    "#the network architecture is as the constructer\n",
    "\n",
    "train_X, train_y, test_X, test_y = partition(Xselect, y, ratio=0.75)\n",
    "learning_curve = nn.train(train_X, train_y, epochs=70, batch_size=10, lr = .1)\n",
    "train_RMS = nn.calc_error(train_X, train_y)\n",
    "test_RMS = nn.calc_error(test_X, test_y)\n",
    "plt.plot(np.arange(len(learning_curve)), learning_curve)\n",
    "print('train_RMS = ', train_RMS, '\\n', 'test_RMS = ', test_RMS)"
   ]
  },
  {
   "cell_type": "code",
   "execution_count": 91,
   "metadata": {},
   "outputs": [
    {
     "name": "stdout",
     "output_type": "stream",
     "text": [
      "train_RMS =  0.2486373235573366 \n",
      " test_RMS =  0.34038247925750176\n"
     ]
    },
    {
     "data": {
      "image/png": "[encoded data removed]",
      "text/plain": [
       "<Figure size 432x288 with 1 Axes>"
      ]
     },
     "metadata": {
      "needs_background": "light"
     },
     "output_type": "display_data"
    }
   ],
   "source": [
    "O = get_onehot(df, \"Orientation\")\n",
    "G = get_onehot(df, \"Glazing Area Distribution\")\n",
    "y = df[\"Heating Load\"].values.reshape((-1,1))\n",
    "y.shape\n",
    "Other = df.drop(['Orientation', 'Glazing Area Distribution', \"Heating Load\"], axis=1).values\n",
    "X = np.c_[normalize(Other), O, G]\n",
    "train_X, train_y, test_X, test_y = partition(X, y, ratio=0.75)\n",
    "\n",
    "nnall = NN([X.shape[1], 10, 10, 1],activations=['sigmoid', 'sigmoid', 'relu'], usage = 'regression')\n",
    "#the network architecture is as the constructer\n",
    "learning_curve2 = nnall.train(train_X, train_y, epochs=70, batch_size=10, lr = .1)\n",
    "train_RMS2 = nnall.calc_error(train_X, train_y)\n",
    "test_RMS2 = nnall.calc_error(test_X, test_y)\n",
    "plt.plot(np.arange(len(learning_curve2)), learning_curve2)\n",
    "print('train_RMS = ', train_RMS2, '\\n', 'test_RMS = ', test_RMS2)"
   ]
  },
  {
   "cell_type": "code",
   "execution_count": null,
   "metadata": {},
   "outputs": [],
   "source": []
  },
  {
   "cell_type": "code",
   "execution_count": 122,
   "metadata": {},
   "outputs": [
    {
     "name": "stdout",
     "output_type": "stream",
     "text": [
      "(1, 3)\n",
      "2.0\n",
      "3.4641016151377544\n"
     ]
    }
   ],
   "source": [
    "\"\"\"\n",
    "a = np.asarray([[3, 4, 5]])\n",
    "print(a.shape)\n",
    "b = np.asarray([[1, 2, 3]])\n",
    "print(np.linalg.norm(a-b)/np.sqrt(3))\n",
    "print(np.linalg.norm(a.T-b.T))\n",
    "\"\"\""
   ]
  },
  {
   "cell_type": "code",
   "execution_count": null,
   "metadata": {},
   "outputs": [],
   "source": []
  },
  {
   "cell_type": "code",
   "execution_count": null,
   "metadata": {},
   "outputs": [],
   "source": []
  },
  {
   "cell_type": "code",
   "execution_count": null,
   "metadata": {},
   "outputs": [],
   "source": []
  },
  {
   "cell_type": "code",
   "execution_count": null,
   "metadata": {},
   "outputs": [],
   "source": []
  }
 ],
 "metadata": {
  "kernelspec": {
   "display_name": "Python 3",
   "language": "python",
   "name": "python3"
  },
  "language_info": {
   "codemirror_mode": {
    "name": "ipython",
    "version": 3
   },
   "file_extension": ".py",
   "mimetype": "text/x-python",
   "name": "python",
   "nbconvert_exporter": "python",
   "pygments_lexer": "ipython3",
   "version": "3.7.4"
  }
 },
 "nbformat": 4,
 "nbformat_minor": 2
}
