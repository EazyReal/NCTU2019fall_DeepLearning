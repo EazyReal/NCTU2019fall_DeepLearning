{
 "cells": [
  {
   "cell_type": "code",
   "execution_count": 354,
   "metadata": {},
   "outputs": [],
   "source": [
    "#author = 0712238@NCTU, Maxwill Lin, YT Lin\n",
    "#last update = 2019.11.07\n",
    "#usage = HW1 of Deep Learning 2019 fall @ NCTU \n",
    "#regression part \n",
    "#preprocess with normaliztion and one-hot vectorization\n",
    "#NN architectur = NN([17, 10, 5, 1],activations=['sigmoid', 'sigmoid', 'relu'], usage = 'regression')\n",
    "#train and test with split data set\n",
    "#learning curve + train/test RMS\n",
    "#save files\n",
    "#2019.11.06-07 some bug fixed, improvement on weight init, experiments"
   ]
  },
  {
   "cell_type": "code",
   "execution_count": 355,
   "metadata": {},
   "outputs": [],
   "source": [
    "import numpy as np\n",
    "import math\n",
    "import pandas as pd\n",
    "import csv\n",
    "import matplotlib.pyplot as plt\n",
    "import pickle"
   ]
  },
  {
   "cell_type": "code",
   "execution_count": 356,
   "metadata": {},
   "outputs": [],
   "source": [
    "import numpy as np\n",
    "\n",
    "class NN(object):\n",
    "    def __init__(self, layers = [10 , 20, 1], activations=['sigmoid', 'relu'], usage = 'regression'):\n",
    "        #my model is very sensitive to initial value sometimes\n",
    "        #maybe the gradient descent method is too naive\n",
    "        assert(len(layers) == len(activations)+1)\n",
    "        self.layers = layers\n",
    "        self.activations = activations\n",
    "        self.weights = []\n",
    "        self.biases = []\n",
    "        self.usage = usage\n",
    "        for i in range(len(layers)-1):\n",
    "            if self.activations[i] in ['relu', 'selu', 'elu']:\n",
    "                self.weights.append(np.random.randn(layers[i+1], layers[i])*np.sqrt(2./layers[i])) #heuristic\n",
    "                self.biases.append(np.random.randn(layers[i+1], 1)*0.1) #can be 0\n",
    "            else:\n",
    "                self.weights.append(np.random.randn(layers[i+1], layers[i])*np.sqrt(1./layers[i])) #heuristic\n",
    "                self.biases.append(np.random.randn(layers[i+1], 1)*0.1) #can be 0\n",
    "\n",
    "\n",
    "    def feedforward(self, x): #x = dim*num\n",
    "        ai = np.copy(x)\n",
    "        z_s = []\n",
    "        a_s = [ai]\n",
    "        for i in range(len(self.weights)):\n",
    "            z_s.append(self.weights[i].dot(ai) + self.biases[i])\n",
    "            ai = self.AF(self.activations[i])(z_s[-1])\n",
    "            a_s.append(ai)\n",
    "        return z_s, a_s\n",
    "\n",
    "    def backpropagation(self,y, z_s, a_s): #y = 1*num\n",
    "        dw = []  # dJ/dW\n",
    "        db = []  # dJ/dB\n",
    "        deltas = [None] * len(self.weights)  # delta = dJ/dZ, error for each layer\n",
    "\n",
    "        #delta out\n",
    "        delta_out = self.dJ(self.usage)(a_s[-1], y)\n",
    "        #last layer delta\n",
    "        deltas[-1] = delta_out*(self.dAF(self.activations[-1]))(z_s[-1])\n",
    "        #backpro\n",
    "        for i in reversed(range(len(deltas)-1)):\n",
    "            deltas[i] = self.weights[i+1].T.dot(deltas[i+1])*(self.dAF(self.activations[i])(z_s[i]))\n",
    "        batch_size = y.shape[1]\n",
    "        db = [d.dot(np.ones((batch_size,1)))/float(batch_size) for d in deltas]\n",
    "        dw = [d.dot(a_s[i].T)/float(batch_size) for i,d in enumerate(deltas)]\n",
    "\n",
    "        #eps = 0.001\n",
    "        #for i in range(len(dw)):\n",
    "        #    assert(np.linalg.norm(dw[i]) > eps)\n",
    "        return dw, db\n",
    "\n",
    "    def train(self, x, y, batch_size=10, epochs=100, lr = 0.1): #x = num*dim #y = num*dim\n",
    "        #record cost by epchos\n",
    "        learning_curve = []\n",
    "\n",
    "        #mini batch\n",
    "        #assert(x.shape[0] >= batch_size*epochs)\n",
    "        indices = np.arange(x.shape[0])#debug if 0\n",
    "        np.random.shuffle(indices)\n",
    "        x = x[indices]\n",
    "        y = y[indices]\n",
    "\n",
    "        for e in range(epochs):\n",
    "            i=0\n",
    "            #print(\"len y  \", len(y))\n",
    "            while(i<len(y)):\n",
    "                x_batch = x[i:i+batch_size]\n",
    "                y_batch = y[i:i+batch_size]\n",
    "                x_batch = x_batch.T\n",
    "                y_batch = y_batch.T\n",
    "                #print(x_batch.shape)\n",
    "                #print(y_batch.shape)\n",
    "                i += batch_size\n",
    "                z_s, a_s = self.feedforward(x_batch)\n",
    "                dw, db = self.backpropagation(y_batch, z_s, a_s)\n",
    "                #eps = 0.001\n",
    "                #for i in range(len(dw)):\n",
    "                #    if(np.linalg.norm(dw[i]) < eps):\n",
    "                #        print(\"0 gradient @ epcho \", e*10)\n",
    "                self.weights = [wi+lr*dwi for wi,dwi in  zip(self.weights, dw)]\n",
    "                self.biases = [bi+lr*dbi for bi,dbi in  zip(self.biases, db)]\n",
    "                loss = self.J(self.usage)(a_s[-1],y_batch)\n",
    "            #if(e%(epochs/10)== 0):\n",
    "            learning_curve.append(loss) #to expand\n",
    "            #print(\"loss = {}\".format(np.linalg.norm(a_s[-1]-y_batch))) #to expand\n",
    "        return learning_curve\n",
    "\n",
    "\n",
    "    def calc_error(self, test_X, test_y): #num*dim\n",
    "        _, a_s = self.feedforward(test_X.T)\n",
    "        return  self.J(self.usage)(a_s[-1], test_y.T)\n",
    "\n",
    "    def prediction(self, X): #num*dim\n",
    "        _, a_s = self.feedforward(X.T)\n",
    "        return a_s[-1]\n",
    "\n",
    "    def calc_accuracy(self, test_X, test_y): #num*dim\n",
    "        _, a_s = self.feedforward(test_X.T)\n",
    "        n = a_s[-1].shape[1]\n",
    "        total = 0.\n",
    "        correct = 0.\n",
    "        for i in range(n):\n",
    "            total += 1\n",
    "            if (a_s[-1][0][i] >= 0.5) == bool(test_y[i]):\n",
    "                correct += 1\n",
    "        return  correct/total\n",
    "\n",
    "    @staticmethod\n",
    "    def AF(name):\n",
    "        if(name == 'sigmoid'):\n",
    "            def sig(x):\n",
    "                x = np.clip(x , -10., 10.)\n",
    "                return np.exp(x)/(1+np.exp(x))\n",
    "            return sig\n",
    "        elif(name == 'linear'):\n",
    "            return lambda x : x\n",
    "        elif(name == 'relu'):\n",
    "            def relu(x):\n",
    "                return np.where(x<0,0,x)\n",
    "            return relu\n",
    "        elif(name == 'selu'):\n",
    "            def selu(x,lamb=1.0507009873554804934193349852946, alpha=1.6732632423543772848170429916717):\n",
    "                x = np.clip(x , -100., 100.)\n",
    "                return lamb*np.where(x<0,alpha*(np.exp(x) - 1),x)\n",
    "            return selu\n",
    "        else:\n",
    "            print('unknown activation function => linear')\n",
    "            return lambda x: x\n",
    "\n",
    "    @staticmethod\n",
    "    def dAF(name):\n",
    "        if(name == 'sigmoid'):\n",
    "            def dsig(x):\n",
    "                x = np.clip(x , -10., 10.)\n",
    "                sigx = np.exp(x)/(1+np.exp(x))\n",
    "                return sigx*(1-sigx)\n",
    "            return dsig\n",
    "        elif(name == 'linear'):\n",
    "            return lambda x: 1\n",
    "        elif(name == 'relu'):\n",
    "            def drelu(x):\n",
    "                return np.where(x<0,0,1)\n",
    "            return drelu\n",
    "        elif(name == 'selu'):\n",
    "            def dselu(x,lamb=1.0507009873554804934193349852946, alpha=1.6732632423543772848170429916717):\n",
    "                x = np.clip(x , -100., 100.)\n",
    "                return lamb*np.where(x<0,alpha*np.exp(x),1)\n",
    "            return dselu\n",
    "        else:\n",
    "            print('unknown activation function => linear derivative')\n",
    "            return lambda x: 1\n",
    "\n",
    "    @staticmethod\n",
    "    def dJ(name):\n",
    "        if(name == 'regression'):\n",
    "            return lambda x, y: y-x\n",
    "        if(name == 'classification'):\n",
    "            def dCE(yhat, y):\n",
    "                epsilon=1e-12\n",
    "                yhat = np.clip(yhat, epsilon, 1. - epsilon)\n",
    "                return np.divide(y, yhat) - np.divide(1 - y, 1 - yhat)\n",
    "            return dCE\n",
    "        else:\n",
    "            print('unknown usage => regression')\n",
    "            return lambda x, y: y-x\n",
    "\n",
    "    @staticmethod\n",
    "    def J(name):\n",
    "        if(name == 'regression'):\n",
    "            return lambda x, y: np.linalg.norm(y-x)/np.sqrt(max(y.shape[0], y.shape[1])) #RMS\n",
    "        if(name == 'classification'):\n",
    "            def cross_entropy(yhat, y):\n",
    "                epsilon=1e-12\n",
    "                yhat = np.clip(yhat, epsilon, 1. - epsilon)\n",
    "                n = yhat.shape[1]\n",
    "                ce = -np.sum(y*np.log(yhat))/n\n",
    "                return ce\n",
    "            return cross_entropy\n",
    "        else:\n",
    "            print('unknown usage => regression')\n",
    "            return lambda x, y: np.linalg.norm(y-x)/np.sqrt(max(y.shape[0], y.shape[1])) #RMS\n"
   ]
  },
  {
   "cell_type": "code",
   "execution_count": 357,
   "metadata": {},
   "outputs": [],
   "source": [
    "#preprocessing\n",
    "df = pd.read_csv(\"EnergyEfficiency_data.csv\")"
   ]
  },
  {
   "cell_type": "code",
   "execution_count": 358,
   "metadata": {},
   "outputs": [],
   "source": [
    "def get_onehot(df, name):\n",
    "    A = df[name].values\n",
    "    n = A.shape[0]\n",
    "    onehot_A = np.zeros((n,max(A)-min(A)+1))\n",
    "    onehot_A[np.arange(n), A-min(A)] = 1\n",
    "    return onehot_A\n",
    "\n",
    "def normalize(X):\n",
    "    s = [ np.mean(dim) for dim in X.T]\n",
    "    X = np.asarray([np.divide(x, s) for x in X])\n",
    "    return X\n",
    "\n",
    "O = get_onehot(df, \"Orientation\")\n",
    "G = get_onehot(df, \"Glazing Area Distribution\")\n",
    "y = df[\"Heating Load\"].values.reshape((-1,1))\n",
    "y.shape\n",
    "Other = df.drop(['Orientation', 'Glazing Area Distribution', \"Heating Load\"], axis=1).values\n",
    "\n",
    "X = np.c_[normalize(Other), O, G]\n",
    "assert(X.shape[1] == O.shape[1]+G.shape[1]+Other.shape[1])\n",
    "\n",
    "def partition(X, y, ratio=0.75):\n",
    "    n = X.shape[0]\n",
    "    indices = np.arange(n)\n",
    "    np.random.shuffle(indices)\n",
    "    X = X[indices]\n",
    "    y = y[indices]\n",
    "    p = int(n*ratio)\n",
    "    train_X = X[:p]\n",
    "    test_X = X[p:]\n",
    "    train_y = y[:p]\n",
    "    test_y = y[p:]\n",
    "    return train_X, train_y, test_X, test_y\n",
    "\n",
    "train_X, train_y, test_X, test_y = partition(X, y, ratio=0.75)"
   ]
  },
  {
   "cell_type": "code",
   "execution_count": 359,
   "metadata": {},
   "outputs": [
    {
     "data": {
      "text/plain": [
       "[1.0, 2.0, 3.0, 4.0, 5.0, 2.0, 3.0, 4.0, 5.0, 6.0]"
      ]
     },
     "execution_count": 359,
     "metadata": {},
     "output_type": "execute_result"
    }
   ],
   "source": [
    "[1., 2., 3., 4., 5.]\n",
    "avg_lc = [[1.]*3]*3\n",
    "avg_lc = [[y/2 for y in x] for x in avg_lc]   \n",
    "[1., 2., 3., 4., 5.]+[2., 3., 4., 5., 6.]"
   ]
  },
  {
   "cell_type": "code",
   "execution_count": 360,
   "metadata": {},
   "outputs": [
    {
     "name": "stdout",
     "output_type": "stream",
     "text": [
      "exp # 0 exp # 1 exp # 2 exp # 3 exp # 4 exp # 5 exp # 6 exp # 7 exp # 8 exp # 9 "
     ]
    }
   ],
   "source": [
    "#exp on lr\n",
    "exp_times = 10\n",
    "epochs = 70\n",
    "\n",
    "lrs = [0.01, 0.05, 0.08, 0.1, 0.15, 0.5]\n",
    "n = len(lrs)\n",
    "avg_lc = [[0.]*epochs]*n\n",
    "avg_train_RMS = [0.]*n\n",
    "avg_test_RMS = [0.]*n\n",
    "\n",
    "\n",
    "for T in range(exp_times):\n",
    "    print(\"exp #\", T, end=' ')\n",
    "    train_X, train_y, test_X, test_y = partition(X, y, ratio=0.75)\n",
    "    for i in range(n):\n",
    "        #test lr with model [in , 10, 5, 1], sig, sig, linear\n",
    "        #lr = 0.5 => too large, 0.1 => ok, 0.01 =>  smooth and as good as 0.1\n",
    "        nn = NN([train_X.shape[1], 10, 5,  1],activations=['sigmoid', 'sigmoid', 'linear'], usage = 'regression')\n",
    "        learning_curve = nn.train(train_X, train_y, epochs=epochs, batch_size=10, lr = lrs[i])\n",
    "        train_RMS = nn.calc_error(train_X, train_y)\n",
    "        test_RMS = nn.calc_error(test_X, test_y)\n",
    "        \n",
    "        avg_lc[i] = [avg_lc[i][k] + learning_curve[k] for k in range(len(avg_lc[i]))]\n",
    "        avg_train_RMS[i] += train_RMS\n",
    "        avg_test_RMS[i] += test_RMS\n"
   ]
  },
  {
   "cell_type": "code",
   "execution_count": 361,
   "metadata": {},
   "outputs": [
    {
     "name": "stdout",
     "output_type": "stream",
     "text": [
      "lr = 0.01, train_RMS =  1.6272838169649901 \n",
      " test_RMS =  1.746094956658628\n",
      "lr = 0.05, train_RMS =  1.362127482586276 \n",
      " test_RMS =  1.5505894928969388\n",
      "lr = 0.08, train_RMS =  1.3660866060390215 \n",
      " test_RMS =  1.6068230627166975\n",
      "lr = 0.1, train_RMS =  1.3654542636169285 \n",
      " test_RMS =  1.616066645966939\n",
      "lr = 0.15, train_RMS =  4.082243367158145 \n",
      " test_RMS =  4.193966068207461\n",
      "lr = 0.5, train_RMS =  10.811314791662266 \n",
      " test_RMS =  10.730692461714677\n"
     ]
    },
    {
     "data": {
      "text/plain": [
       "<matplotlib.legend.Legend at 0x11c7c4650>"
      ]
     },
     "execution_count": 361,
     "metadata": {},
     "output_type": "execute_result"
    },
    {
     "data": {
      "image/png": "[encoded data removed]",
      "text/plain": [
       "<Figure size 432x288 with 1 Axes>"
      ]
     },
     "metadata": {
      "needs_background": "light"
     },
     "output_type": "display_data"
    }
   ],
   "source": [
    "avg_lc = [[y/n for y in x] for x in avg_lc]      \n",
    "avg_train_RMS = [i/exp_times for i in avg_train_RMS]\n",
    "avg_test_RMS = [x/exp_times for x in avg_test_RMS]\n",
    "\n",
    "plt.title(\"learning curves of different lr\")\n",
    "\n",
    "for i in range(n):        \n",
    "    plt.plot(np.arange(len(avg_lc[i])), avg_lc[i], label='{}'.format(lrs[i]))\n",
    "    print('lr = '+ str(lrs[i]) +', train_RMS = ', avg_train_RMS[i], '\\n', 'test_RMS = ', avg_test_RMS[i])\n",
    "\n",
    "plt.legend() \n"
   ]
  },
  {
   "cell_type": "code",
   "execution_count": null,
   "metadata": {},
   "outputs": [],
   "source": [
    "for i in range(n):        \n",
    "    plt.title(\"learning cure with lr={}\".format(lrs[i]))\n",
    "    plt.plot(np.arange(len(learning_curve)), learning_curve, label='lr={}'.format(lrs[i]))\n",
    "    print('train_RMS = ', train_RMS, '\\n', 'test_RMS = ', test_RMS)\n",
    "\n",
    "plt.legend()"
   ]
  },
  {
   "cell_type": "code",
   "execution_count": 75,
   "metadata": {},
   "outputs": [
    {
     "ename": "FileNotFoundError",
     "evalue": "[Errno 2] No such file or directory: './predictions/reg_train_pred_1107-1.csv'",
     "output_type": "error",
     "traceback": [
      "\u001b[0;31m---------------------------------------------------------------------------\u001b[0m",
      "\u001b[0;31mFileNotFoundError\u001b[0m                         Traceback (most recent call last)",
      "\u001b[0;32m<ipython-input-75-75737a907025>\u001b[0m in \u001b[0;36m<module>\u001b[0;34m\u001b[0m\n\u001b[1;32m     19\u001b[0m         \u001b[0mpickle\u001b[0m\u001b[0;34m.\u001b[0m\u001b[0mdump\u001b[0m\u001b[0;34m(\u001b[0m\u001b[0mnn\u001b[0m\u001b[0;34m,\u001b[0m \u001b[0mfo\u001b[0m\u001b[0;34m)\u001b[0m\u001b[0;34m\u001b[0m\u001b[0;34m\u001b[0m\u001b[0m\n\u001b[1;32m     20\u001b[0m \u001b[0;34m\u001b[0m\u001b[0m\n\u001b[0;32m---> 21\u001b[0;31m \u001b[0msave_res\u001b[0m\u001b[0;34m(\u001b[0m\u001b[0;34m\"1107-1\"\u001b[0m\u001b[0;34m)\u001b[0m\u001b[0;34m\u001b[0m\u001b[0;34m\u001b[0m\u001b[0m\n\u001b[0m",
      "\u001b[0;32m<ipython-input-75-75737a907025>\u001b[0m in \u001b[0;36msave_res\u001b[0;34m(name)\u001b[0m\n\u001b[1;32m      3\u001b[0m     \u001b[0mreg_train_csv\u001b[0m \u001b[0;34m=\u001b[0m \u001b[0mpathcsv\u001b[0m \u001b[0;34m+\u001b[0m \u001b[0;34m\"reg_train_pred_\"\u001b[0m\u001b[0;34m+\u001b[0m\u001b[0mname\u001b[0m\u001b[0;34m+\u001b[0m\u001b[0;34m\".csv\"\u001b[0m\u001b[0;34m\u001b[0m\u001b[0;34m\u001b[0m\u001b[0m\n\u001b[1;32m      4\u001b[0m     \u001b[0mreg_test_csv\u001b[0m \u001b[0;34m=\u001b[0m \u001b[0mpathcsv\u001b[0m \u001b[0;34m+\u001b[0m \u001b[0;34m\"reg_test_pred_\"\u001b[0m\u001b[0;34m+\u001b[0m\u001b[0mname\u001b[0m\u001b[0;34m+\u001b[0m\u001b[0;34m\".csv\"\u001b[0m\u001b[0;34m\u001b[0m\u001b[0;34m\u001b[0m\u001b[0m\n\u001b[0;32m----> 5\u001b[0;31m     \u001b[0;32mwith\u001b[0m \u001b[0mopen\u001b[0m\u001b[0;34m(\u001b[0m\u001b[0mreg_train_csv\u001b[0m\u001b[0;34m,\u001b[0m \u001b[0;34m'w'\u001b[0m\u001b[0;34m,\u001b[0m \u001b[0mnewline\u001b[0m\u001b[0;34m=\u001b[0m\u001b[0;34m''\u001b[0m\u001b[0;34m)\u001b[0m \u001b[0;32mas\u001b[0m \u001b[0mcsvFile\u001b[0m\u001b[0;34m:\u001b[0m\u001b[0;34m\u001b[0m\u001b[0;34m\u001b[0m\u001b[0m\n\u001b[0m\u001b[1;32m      6\u001b[0m         \u001b[0mwriter\u001b[0m \u001b[0;34m=\u001b[0m \u001b[0mcsv\u001b[0m\u001b[0;34m.\u001b[0m\u001b[0mwriter\u001b[0m\u001b[0;34m(\u001b[0m\u001b[0mcsvFile\u001b[0m\u001b[0;34m)\u001b[0m\u001b[0;34m\u001b[0m\u001b[0;34m\u001b[0m\u001b[0m\n\u001b[1;32m      7\u001b[0m         \u001b[0mwriter\u001b[0m\u001b[0;34m.\u001b[0m\u001b[0mwriterow\u001b[0m\u001b[0;34m(\u001b[0m\u001b[0;34m[\u001b[0m\u001b[0;34m'prediction'\u001b[0m\u001b[0;34m,\u001b[0m \u001b[0;34m'label'\u001b[0m\u001b[0;34m]\u001b[0m\u001b[0;34m)\u001b[0m\u001b[0;34m\u001b[0m\u001b[0;34m\u001b[0m\u001b[0m\n",
      "\u001b[0;31mFileNotFoundError\u001b[0m: [Errno 2] No such file or directory: './predictions/reg_train_pred_1107-1.csv'"
     ]
    }
   ],
   "source": [
    "def save_res(name):\n",
    "    pathcsv = \"./predictions/\"\n",
    "    reg_train_csv = pathcsv + \"reg_train_pred_\"+name+\".csv\" \n",
    "    reg_test_csv = pathcsv + \"reg_test_pred_\"+name+\".csv\" \n",
    "    with open(reg_train_csv, 'w', newline='') as csvFile:\n",
    "        writer = csv.writer(csvFile)\n",
    "        writer.writerow(['prediction', 'label'])\n",
    "        for i in range(train_X.shape[0]):\n",
    "            writer.writerow([nn.prediction(np.asarray([train_X[i]]))[0][0], train_y[i][0]])\n",
    "    with open(reg_test_csv, 'w', newline='') as csvFile:\n",
    "        writer = csv.writer(csvFile)\n",
    "        writer.writerow(['prediction', 'label'])\n",
    "        for i in range(test_X.shape[0]):\n",
    "            writer.writerow([nn.prediction(np.asarray([test_X[i]]))[0][0], test_y[i][0]])\n",
    "            \n",
    "    pathnn = \"./savedmodels/\"\n",
    "    savefilename = pathnn +\"reg_nn_\"+name\n",
    "    with open(savefilename, 'wb') as fo:\n",
    "        pickle.dump(nn, fo)\n",
    "\n",
    "save_res(\"1107-1\")"
   ]
  },
  {
   "cell_type": "code",
   "execution_count": 223,
   "metadata": {},
   "outputs": [],
   "source": [
    "#nn = NN([train_X.shape[1], 10, 5,  1],activations=['sigmoid', 'sigmoid', 'relu'], usage = 'regression')\n",
    "nn = NN([train_X.shape[1], 10, 5,  1],activations=['selu', 'selu', 'linear'], usage = 'regression')\n",
    "z_s, a_s = nn.feedforward(X.T)\n",
    "#dw, db = nn.backpropagation(y.T, z_s, a_s)\n",
    "#print(dw)"
   ]
  },
  {
   "cell_type": "code",
   "execution_count": 131,
   "metadata": {},
   "outputs": [
    {
     "name": "stdout",
     "output_type": "stream",
     "text": [
      "[array([[-0.08782223,  0.17636422,  0.51567874, -0.06583622,  0.37120905,\n",
      "         0.51373374,  0.23176842, -0.08893359,  0.15595829,  0.18662449,\n",
      "         0.51095573, -0.3921438 , -0.08301767,  0.15347536, -0.55125672,\n",
      "         0.13919219, -0.24498976],\n",
      "       [ 0.13064503, -0.21079076,  0.27790895, -0.20396424,  0.33110603,\n",
      "         0.16900299,  0.48094283, -0.04551837, -0.15986166,  0.07217667,\n",
      "         0.20198217, -0.07453665,  0.12330061, -0.88268454,  0.09646616,\n",
      "         0.86280573,  0.01680349],\n",
      "       [ 0.03555072, -0.05100541,  0.13535274,  0.63930314,  0.13191886,\n",
      "         0.32245713,  0.26234304,  0.29480255,  0.08604815, -0.22375003,\n",
      "         0.19297176, -0.51485125, -0.16752672, -0.28392996, -0.04181313,\n",
      "        -0.11872433, -0.16974331],\n",
      "       [ 0.11979631, -0.11396559, -0.46795064, -0.4013274 , -0.45104869,\n",
      "        -0.76570025, -0.13510735, -0.30059603,  0.22080355,  0.31868432,\n",
      "         0.06022368,  0.58366743,  0.25932753,  0.15672163,  0.2197435 ,\n",
      "        -0.83273022,  0.25410561],\n",
      "       [ 0.18003862, -0.03420035, -0.22541791, -0.36260422,  0.34539032,\n",
      "         0.03514851, -0.29934925,  0.84669577,  0.10951418, -0.01005197,\n",
      "         0.22745804, -0.14851796,  0.01147826, -0.24373445,  0.01182753,\n",
      "        -0.06522967, -0.00794151],\n",
      "       [ 0.4373303 ,  0.0243901 ,  0.15549984, -0.02691817, -0.28036653,\n",
      "         0.17057114,  0.36078707,  0.33791267,  0.02507118,  0.54739993,\n",
      "        -0.87680083, -0.49128584,  0.20200829,  0.12795786, -0.0117017 ,\n",
      "         0.33170225, -0.08364857],\n",
      "       [ 0.91766005, -0.2816714 , -0.30375242, -0.20351925,  0.74473068,\n",
      "         0.00549908, -0.08103125,  0.19586951,  0.2244193 ,  0.1547223 ,\n",
      "         0.29841919, -0.18596433,  0.06596544,  0.39607677,  0.01534267,\n",
      "         0.02772893, -0.22810959],\n",
      "       [ 0.58756898, -0.13705479, -0.31493231, -0.18798104,  0.24958766,\n",
      "        -0.11115901,  0.59882977, -0.03577392,  0.00337595, -0.41006931,\n",
      "         0.23025944, -0.0025396 ,  0.53882386,  0.12728547,  0.1676281 ,\n",
      "         0.07472216, -0.59986025],\n",
      "       [-0.04902627,  0.03437999,  0.19623541,  0.03591967,  0.63505553,\n",
      "        -0.33175356, -0.20225855, -0.28525041, -0.2749472 , -0.09664877,\n",
      "         0.24071848,  0.12936657, -0.44934148,  0.37661147, -0.10115846,\n",
      "        -0.28582482,  0.20272379],\n",
      "       [-0.0801332 , -0.40004819, -0.4259118 ,  0.8919015 ,  0.36840363,\n",
      "        -0.30695375,  0.15713403,  0.08396483,  0.75259881,  0.10103675,\n",
      "        -0.0965353 ,  0.77795975,  0.69632781,  0.49172629,  0.03383115,\n",
      "         0.36682487,  0.10308036]]), array([[-0.91989165, -0.1075726 , -0.24115274,  0.10549705,  0.60804633,\n",
      "        -0.21228056,  0.35453527, -0.5896134 , -0.07825355, -0.02385962],\n",
      "       [-0.04257951,  0.12439795, -0.30715598,  0.72781732, -0.38749634,\n",
      "         0.45437686, -0.73693172,  0.47600885,  0.18551962, -0.36947314],\n",
      "       [ 0.47451707,  0.6045479 ,  0.54209002,  0.34358423,  0.47265648,\n",
      "         0.20601514, -0.35238255, -0.64826949, -0.2023612 , -0.68089164],\n",
      "       [-0.35154933,  0.46225248,  0.5647843 ,  0.18353089, -0.55312163,\n",
      "        -0.67422986,  0.43360468,  0.61701193, -1.01356149,  0.41802219],\n",
      "       [ 0.04013732, -0.14604895,  0.11473872,  0.00411777, -0.25953041,\n",
      "         0.1990118 ,  0.30700685, -0.70616303,  0.04392393,  0.10240651]]), array([[-0.18387785, -0.57509214, -1.14986235, -0.66708715,  0.58361804]])]\n"
     ]
    }
   ],
   "source": [
    "print(nn.weights)"
   ]
  },
  {
   "cell_type": "code",
   "execution_count": 132,
   "metadata": {},
   "outputs": [
    {
     "name": "stdout",
     "output_type": "stream",
     "text": [
      "24.665771889569072\n"
     ]
    }
   ],
   "source": [
    "print(nn.calc_error(X, y))\n",
    "dw = []  # dJ/dW\n",
    "db = []  # dJ/dB\n",
    "deltas = [None] * len(nn.weights)  # delta = dJ/dZ, error for each layer\n"
   ]
  },
  {
   "cell_type": "code",
   "execution_count": 364,
   "metadata": {},
   "outputs": [
    {
     "name": "stdout",
     "output_type": "stream",
     "text": [
      "(1, 768)\n"
     ]
    },
    {
     "data": {
      "text/plain": [
       "array([5, 6])"
      ]
     },
     "execution_count": 364,
     "metadata": {},
     "output_type": "execute_result"
    }
   ],
   "source": [
    "print((y.T-a_s[-1]).shape)\n",
    "delta_out = nn.dJ(nn.usage)(a_s[-1], y.T)\n",
    "delta_out.shape\n",
    "\n"
   ]
  },
  {
   "cell_type": "code",
   "execution_count": 138,
   "metadata": {},
   "outputs": [
    {
     "data": {
      "text/plain": [
       "(1, 768)"
      ]
     },
     "execution_count": 138,
     "metadata": {},
     "output_type": "execute_result"
    }
   ],
   "source": [
    "deltas[-1] = delta_out*((nn.dAF(nn.activations[-1]))(z_s[-1]))\n",
    "deltas[-1].shape"
   ]
  },
  {
   "cell_type": "code",
   "execution_count": 178,
   "metadata": {},
   "outputs": [
    {
     "data": {
      "text/plain": [
       "array([[1, 2, 3, 0, 0],\n",
       "       [1, 0, 0, 2, 3]])"
      ]
     },
     "execution_count": 178,
     "metadata": {},
     "output_type": "execute_result"
    }
   ],
   "source": [
    "x = np.asarray([[1, 2, 3, -1, -1]])\n",
    "y = np.asarray([[1, 2, 3, -1, -1], [1, -1, -1, 2, 3]])\n",
    "np.where(y>0, y, 0)"
   ]
  },
  {
   "cell_type": "code",
   "execution_count": 142,
   "metadata": {},
   "outputs": [
    {
     "name": "stdout",
     "output_type": "stream",
     "text": [
      "(5, 768)\n",
      "(5, 768)\n"
     ]
    }
   ],
   "source": [
    "print(nn.dAF(nn.activations[-2])(z_s[-2]).shape)\n",
    "#nn.weights[-1].T.dot(deltas[-1])\n",
    "deltas[-2] = nn.weights[-1].T.dot(deltas[-1])*(nn.dAF(nn.activations[-2])(z_s[-2]))\n",
    "print(deltas[-2].shape)\n",
    "\n",
    "for i in reversed(range(len(deltas)-1)):\n",
    "    deltas[i] = nn.weights[i+1].T.dot(deltas[i+1])*(nn.dAF(nn.activations[i])(z_s[i]))\n",
    "    #print(deltas[i][-1])"
   ]
  },
  {
   "cell_type": "code",
   "execution_count": 147,
   "metadata": {},
   "outputs": [
    {
     "name": "stdout",
     "output_type": "stream",
     "text": [
      "[(10, 17), (5, 10), (1, 5)]\n",
      "[array([[-6.20462410e+00, -5.73517571e+00, -6.17764704e+00,\n",
      "        -5.33618422e+00, -6.82820491e+00, -7.15764520e+00,\n",
      "        -7.24948268e+00, -1.49837976e+00, -1.26613962e+00,\n",
      "        -1.54827185e+00, -1.65827541e+00,  5.81773732e-02,\n",
      "        -1.40894961e+00, -7.81809734e-01, -1.31361667e+00,\n",
      "        -1.36787567e+00, -1.15699232e+00],\n",
      "       [-2.85576398e+01, -2.65016941e+01, -2.83656445e+01,\n",
      "        -2.48209064e+01, -3.11772470e+01, -3.07075954e+01,\n",
      "        -3.24819096e+01, -7.08800160e+00, -6.40103540e+00,\n",
      "        -6.97242233e+00, -7.07115473e+00, -6.57157841e-01,\n",
      "        -5.58470414e+00, -4.79357159e+00, -5.51495394e+00,\n",
      "        -5.68082935e+00, -5.30139720e+00],\n",
      "       [-2.19250660e+01, -2.02503640e+01, -2.17104449e+01,\n",
      "        -1.89337593e+01, -2.39862765e+01, -2.36388434e+01,\n",
      "        -2.49847597e+01, -5.51827940e+00, -4.90505645e+00,\n",
      "        -5.18351967e+00, -5.48216478e+00, -4.46110332e-01,\n",
      "        -4.34889077e+00, -3.52726222e+00, -4.23634920e+00,\n",
      "        -4.35873833e+00, -4.17166945e+00],\n",
      "       [-3.31509788e+00, -3.08518241e+00, -3.27107576e+00,\n",
      "        -2.91755604e+00, -3.56999472e+00, -2.70640809e+00,\n",
      "        -3.55181023e+00, -5.40316689e-01, -7.83009431e-01,\n",
      "        -1.12064662e+00, -7.55249050e-01, -2.87238225e-01,\n",
      "        -7.41026799e-01, -4.73073702e-01, -7.35775115e-01,\n",
      "        -2.58107869e-01, -7.04000083e-01],\n",
      "       [-8.22794035e+00, -7.50771811e+00, -8.07890185e+00,\n",
      "        -6.99266226e+00, -9.04544859e+00, -9.20381178e+00,\n",
      "        -9.47211192e+00, -1.83949635e+00, -2.02399093e+00,\n",
      "        -1.66263919e+00, -2.34140830e+00, -2.08347281e-04,\n",
      "        -1.78118226e+00, -9.25590283e-01, -1.82727242e+00,\n",
      "        -1.73037176e+00, -1.60290968e+00],\n",
      "       [ 7.51247773e+00,  6.87703647e+00,  7.35374529e+00,\n",
      "         6.44717188e+00,  8.19265219e+00,  7.58659034e+00,\n",
      "         8.35706562e+00,  1.85265044e+00,  1.87893451e+00,\n",
      "         1.33707508e+00,  2.12448130e+00,  3.39800963e-01,\n",
      "         1.24595035e+00,  1.51231787e+00,  1.30098523e+00,\n",
      "         1.33581302e+00,  1.45827390e+00],\n",
      "       [ 1.08340961e+01,  1.00609444e+01,  1.08369145e+01,\n",
      "         9.36122574e+00,  1.19167515e+01,  1.17055148e+01,\n",
      "         1.25190226e+01,  2.48735100e+00,  2.36736244e+00,\n",
      "         2.93836322e+00,  2.65776303e+00,  2.15662191e-01,\n",
      "         2.24253795e+00,  1.47978982e+00,  2.25203008e+00,\n",
      "         2.32690629e+00,  1.93391336e+00],\n",
      "       [-5.65491978e+00, -5.20137483e+00, -5.61405389e+00,\n",
      "        -4.82924803e+00, -6.23130066e+00, -5.13113700e+00,\n",
      "        -6.30700679e+00, -1.16267544e+00, -1.69016461e+00,\n",
      "        -1.28895704e+00, -1.28747367e+00, -5.45052620e-01,\n",
      "        -7.80349626e-01, -1.27580814e+00, -8.65940164e-01,\n",
      "        -1.09162257e+00, -8.70497632e-01],\n",
      "       [ 2.55888006e+01,  2.36451006e+01,  2.53148026e+01,\n",
      "         2.21394733e+01,  2.79444524e+01,  2.71564895e+01,\n",
      "         2.90192699e+01,  6.41278054e+00,  5.99713383e+00,\n",
      "         6.17906334e+00,  6.02884204e+00,  6.79980057e-01,\n",
      "         4.93043553e+00,  4.07249047e+00,  5.15233033e+00,\n",
      "         5.19739974e+00,  4.58518363e+00],\n",
      "       [ 1.57931859e+01,  1.46351511e+01,  1.57292535e+01,\n",
      "         1.36485617e+01,  1.73181004e+01,  1.73404686e+01,\n",
      "         1.81772900e+01,  3.83523528e+00,  3.36024731e+00,\n",
      "         4.00644519e+00,  4.01463622e+00,  2.07072094e-01,\n",
      "         3.27439898e+00,  2.17550986e+00,  3.31498483e+00,\n",
      "         3.28144405e+00,  2.96315418e+00]]), array([[-7.74253102e-01, -5.23715456e-01, -6.33241766e-01,\n",
      "         7.23882409e-01,  3.59374328e-04, -3.85395984e-01,\n",
      "        -4.84102454e-01, -3.64090083e-01, -6.17158740e-02,\n",
      "        -4.41899654e-01],\n",
      "       [-8.03234369e+00, -5.59871462e+00, -5.40886207e+00,\n",
      "         6.31891905e+00,  8.93058253e-01, -3.92027016e+00,\n",
      "        -4.48730195e+00, -3.79792094e+00, -1.93741961e-01,\n",
      "        -3.61514487e+00],\n",
      "       [-5.20377741e+01, -3.54592760e+01, -3.65771555e+01,\n",
      "         4.08846528e+01,  3.23221192e+00, -2.29171206e+01,\n",
      "        -2.95440687e+01, -2.56755192e+01, -7.56543922e-01,\n",
      "        -2.22339147e+01],\n",
      "       [-3.09364219e+01, -2.03894073e+01, -2.15308599e+01,\n",
      "         2.43432427e+01,  2.10399129e+00, -1.34851225e+01,\n",
      "        -1.79014587e+01, -1.52902563e+01, -1.07764691e+00,\n",
      "        -1.39439579e+01],\n",
      "       [ 2.97328626e+01,  1.99752538e+01,  2.07721595e+01,\n",
      "        -2.33428395e+01, -1.92841829e+00,  1.25573785e+01,\n",
      "         1.72955690e+01,  1.51104815e+01,  9.37193163e-01,\n",
      "         1.34751885e+01]]), array([[-36.40360734, -31.85895157,   7.85857844,  31.96334608,\n",
      "          1.13481249]])]\n"
     ]
    }
   ],
   "source": [
    "batch_size = 768\n",
    "db = [d.dot(np.ones((batch_size,1)))/float(batch_size) for d in deltas]\n",
    "dw = [d.dot(a_s[i].T)/float(batch_size) for i,d in enumerate(deltas)]\n",
    "print([x.shape for x in dw])\n",
    "print(dw)"
   ]
  },
  {
   "cell_type": "code",
   "execution_count": null,
   "metadata": {},
   "outputs": [],
   "source": [
    "def backpropagation(self,y, z_s, a_s): #y = 1*num\n",
    "    dw = []  # dJ/dW\n",
    "    db = []  # dJ/dB\n",
    "    deltas = [None] * len(self.weights)  # delta = dJ/dZ, error for each layer\n",
    "\n",
    "    #delta out\n",
    "    delta_out = self.dJ(self.usage)(a_s[-1], y)\n",
    "    #last layer delta\n",
    "    deltas[-1] = delta_out*(self.dAF(self.activations[-1]))(z_s[-1])\n",
    "    #backpro\n",
    "    for i in reversed(range(len(deltas)-1)):\n",
    "        deltas[i] = self.weights[i+1].T.dot(deltas[i+1])*(self.dAF(self.activations[i])(z_s[i]))\n",
    "    batch_size = y.shape[1]\n",
    "    db = [d.dot(np.ones((batch_size,1)))/float(batch_size) for d in deltas]\n",
    "    dw = [d.dot(a_s[i].T)/float(batch_size) for i,d in enumerate(deltas)]\n",
    "\n",
    "    #eps = 0.001\n",
    "    #for i in range(len(dw)):\n",
    "    #    assert(np.linalg.norm(dw[i]) > eps)\n",
    "    return dw, db"
   ]
  }
 ],
 "metadata": {
  "kernelspec": {
   "display_name": "Python 3",
   "language": "python",
   "name": "python3"
  },
  "language_info": {
   "codemirror_mode": {
    "name": "ipython",
    "version": 3
   },
   "file_extension": ".py",
   "mimetype": "text/x-python",
   "name": "python",
   "nbconvert_exporter": "python",
   "pygments_lexer": "ipython3",
   "version": "3.7.4"
  }
 },
 "nbformat": 4,
 "nbformat_minor": 2
}
