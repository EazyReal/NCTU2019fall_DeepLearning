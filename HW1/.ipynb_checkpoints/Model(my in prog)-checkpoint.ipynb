{
 "cells": [
  {
   "cell_type": "code",
   "execution_count": 6,
   "metadata": {},
   "outputs": [],
   "source": [
    "import numpy as np\n",
    "import math\n",
    "import pandas as pd\n",
    "import time\n",
    "import collections #may use deque"
   ]
  },
  {
   "cell_type": "code",
   "execution_count": 129,
   "metadata": {},
   "outputs": [],
   "source": [
    "def sigmoid(Z):\n",
    "    return 1/(1+np.exp(-Z))\n",
    "\n",
    "def dsigmoid(dA, Z):\n",
    "    y = sigmoid(Z)\n",
    "    return dA * y * (1 - y)\n",
    "\n",
    "def relu(Z):\n",
    "    return np.maximum(0,Z)\n",
    "\n",
    "def drelu(dA, Z):\n",
    "    dZ = np.array(dA, copy = True)\n",
    "    dZ[Z <= 0] = 0;\n",
    "    return dZ;\n",
    "\n",
    "def MSE(x, y):\n",
    "    return np.square(y-x).mean(axis=0)\n",
    "\n",
    "def RMS(x, y):\n",
    "    return np.sqrt(MSE)\n",
    "\n",
    "def dMSE(Yhat, Y):\n",
    "    return Yhat-Y;\n",
    "\n",
    "class NN(): \n",
    "    def __init__(self, topology = [], costf, dcostf, seed = 1): # seed = time.time()\n",
    "        self.topology = topology\n",
    "        self.n_layer = len(topology)\n",
    "        self.W = []\n",
    "        self.af = []\n",
    "        self.daf = list()\n",
    "        self.costf = costf\n",
    "        self.dcostf = dcostf\n",
    "        for l_in, l_out, l_af, l_daf in topology :\n",
    "            #add bias as weight\n",
    "            self.W.append(np.random.randn(l_in+1, l_out) * 0.1)\n",
    "            self.af.append(l_af)\n",
    "            self.daf.append(l_daf)\n",
    "    \n",
    "    def forward(self, X): \n",
    "        k = X.shape[0] #how many xs(featur vector)\n",
    "        Xi = X\n",
    "        Z = []\n",
    "        A = []\n",
    "        for i in range(self.n_layer):\n",
    "            Zi = np.dot(np.c_[np.ones(k), Xi], self.W[i])\n",
    "            Z.append(Zi)\n",
    "            Ai = self.af[i](Zi)\n",
    "            A.append(Ai)\n",
    "            Xi = Ai\n",
    "        return Xi, Z, A\n",
    "        \n",
    "    def backward(self, Z, A, Yhat, Y):\n",
    "        W = []\n",
    "        dAi = Yhat-Y\n",
    "        dZi = self.daf[self.n_layer-1](dAi, Z[self.n_layer-1])\n",
    "        for i in reversed(range(self.n_layer): #range(self.n_layer-1, -1, -1)\n",
    "            \n",
    "            \n",
    "        \n",
    "        pass\n",
    "    \n",
    "    def train(self, epoch, loss_f = MSE):\n",
    "        pass\n"
   ]
  },
  {
   "cell_type": "code",
   "execution_count": 130,
   "metadata": {},
   "outputs": [],
   "source": [
    "data = np.matrix(np.ones(shape = (10, 2)))\n",
    "W1 = np.matrix(np.random.randn(2, 3))\n",
    "W2 = np.random.randn(3, 8)\n",
    "W3 = np.random.randn(8, 5)"
   ]
  },
  {
   "cell_type": "code",
   "execution_count": 131,
   "metadata": {},
   "outputs": [],
   "source": [
    "a1 = data*W1\n",
    "W23 = W2.dot(W3)"
   ]
  },
  {
   "cell_type": "code",
   "execution_count": 132,
   "metadata": {},
   "outputs": [
    {
     "data": {
      "text/plain": [
       "matrix([[ 2.37692266, -0.45245331, -1.89087323],\n",
       "        [ 2.37692266, -0.45245331, -1.89087323],\n",
       "        [ 2.37692266, -0.45245331, -1.89087323],\n",
       "        [ 2.37692266, -0.45245331, -1.89087323],\n",
       "        [ 2.37692266, -0.45245331, -1.89087323],\n",
       "        [ 2.37692266, -0.45245331, -1.89087323],\n",
       "        [ 2.37692266, -0.45245331, -1.89087323],\n",
       "        [ 2.37692266, -0.45245331, -1.89087323],\n",
       "        [ 2.37692266, -0.45245331, -1.89087323],\n",
       "        [ 2.37692266, -0.45245331, -1.89087323]])"
      ]
     },
     "execution_count": 132,
     "metadata": {},
     "output_type": "execute_result"
    }
   ],
   "source": [
    "a1"
   ]
  },
  {
   "cell_type": "code",
   "execution_count": 133,
   "metadata": {},
   "outputs": [
    {
     "data": {
      "text/plain": [
       "(3, 5)"
      ]
     },
     "execution_count": 133,
     "metadata": {},
     "output_type": "execute_result"
    }
   ],
   "source": [
    "W23.shape"
   ]
  },
  {
   "cell_type": "code",
   "execution_count": 134,
   "metadata": {},
   "outputs": [
    {
     "data": {
      "text/plain": [
       "(3, 6)"
      ]
     },
     "execution_count": 134,
     "metadata": {},
     "output_type": "execute_result"
    }
   ],
   "source": [
    "np.c_[np.ones(3),W23].shape#is ok"
   ]
  },
  {
   "cell_type": "code",
   "execution_count": 135,
   "metadata": {},
   "outputs": [
    {
     "data": {
      "text/plain": [
       "(3, 5)"
      ]
     },
     "execution_count": 135,
     "metadata": {},
     "output_type": "execute_result"
    }
   ],
   "source": [
    "W23.shape"
   ]
  },
  {
   "cell_type": "code",
   "execution_count": 136,
   "metadata": {},
   "outputs": [],
   "source": [
    "nn = NN([(3, 5, relu), (5, 5, relu), (5, 3, relu)])"
   ]
  },
  {
   "cell_type": "code",
   "execution_count": 137,
   "metadata": {},
   "outputs": [],
   "source": [
    "y, z, a = nn.forward(np.asarray([[3, 5, 5]]))"
   ]
  },
  {
   "cell_type": "code",
   "execution_count": 138,
   "metadata": {},
   "outputs": [
    {
     "data": {
      "text/plain": [
       "array([[0.09454673, 0.0144276 , 0.00525266]])"
      ]
     },
     "execution_count": 138,
     "metadata": {},
     "output_type": "execute_result"
    }
   ],
   "source": [
    "y"
   ]
  },
  {
   "cell_type": "code",
   "execution_count": 139,
   "metadata": {},
   "outputs": [
    {
     "data": {
      "text/plain": [
       "[array([[ 0.60211063, -1.17327173, -1.12455015,  0.34196779,  0.51238322]]),\n",
       " array([[-0.13723537,  0.17543319, -0.17265208, -0.09832658,  0.04726729]]),\n",
       " array([[0.09454673, 0.0144276 , 0.00525266]])]"
      ]
     },
     "execution_count": 139,
     "metadata": {},
     "output_type": "execute_result"
    }
   ],
   "source": [
    "z"
   ]
  },
  {
   "cell_type": "code",
   "execution_count": 140,
   "metadata": {},
   "outputs": [
    {
     "data": {
      "text/plain": [
       "[array([[0.60211063, 0.        , 0.        , 0.34196779, 0.51238322]]),\n",
       " array([[0.        , 0.17543319, 0.        , 0.        , 0.04726729]]),\n",
       " array([[0.09454673, 0.0144276 , 0.00525266]])]"
      ]
     },
     "execution_count": 140,
     "metadata": {},
     "output_type": "execute_result"
    }
   ],
   "source": [
    "a"
   ]
  },
  {
   "cell_type": "code",
   "execution_count": 141,
   "metadata": {},
   "outputs": [
    {
     "data": {
      "text/plain": [
       "[array([[ 0.22563788, -0.0578653 , -0.2452132 , -0.06701018, -0.07583446],\n",
       "        [ 0.01491966, -0.04610854, -0.1739531 , -0.01340529, -0.08111281],\n",
       "        [ 0.12385265, -0.05093863,  0.06849408,  0.06388632,  0.02790951],\n",
       "        [-0.05750989, -0.14447753, -0.13998961,  0.02595244,  0.13840171]]),\n",
       " array([[-0.12565565,  0.08054982,  0.05085965, -0.01163679, -0.02828686],\n",
       "        [ 0.06062896, -0.04381495, -0.1702139 , -0.05236407,  0.05738501],\n",
       "        [-0.02453767, -0.06233793, -0.24511446,  0.01790655, -0.05510122],\n",
       "        [-0.03653491, -0.00995075, -0.0370143 ,  0.07706599,  0.12631518],\n",
       "        [-0.05291988,  0.19581002, -0.08445633,  0.09916135,  0.06014817],\n",
       "        [-0.05852683,  0.10598336, -0.17983178, -0.17383631,  0.03987892]]),\n",
       " array([[ 0.07908656, -0.00423585, -0.00259312],\n",
       "        [ 0.03910718, -0.0383321 , -0.11610294],\n",
       "        [ 0.0681608 ,  0.10906577,  0.04490173],\n",
       "        [-0.05415235,  0.07478553, -0.16157887],\n",
       "        [-0.03634967,  0.03436108,  0.11026086],\n",
       "        [ 0.07409996, -0.00994992, -0.00066568]])]"
      ]
     },
     "execution_count": 141,
     "metadata": {},
     "output_type": "execute_result"
    }
   ],
   "source": [
    "nn.W"
   ]
  },
  {
   "cell_type": "code",
   "execution_count": 5,
   "metadata": {},
   "outputs": [
    {
     "data": {
      "text/plain": [
       "[5, 4, 3, 2, 1, 0]"
      ]
     },
     "execution_count": 5,
     "metadata": {},
     "output_type": "execute_result"
    }
   ],
   "source": [
    "list(range(5, -1, -1))"
   ]
  },
  {
   "cell_type": "code",
   "execution_count": null,
   "metadata": {},
   "outputs": [],
   "source": []
  }
 ],
 "metadata": {
  "kernelspec": {
   "display_name": "Python 3",
   "language": "python",
   "name": "python3"
  },
  "language_info": {
   "codemirror_mode": {
    "name": "ipython",
    "version": 3
   },
   "file_extension": ".py",
   "mimetype": "text/x-python",
   "name": "python",
   "nbconvert_exporter": "python",
   "pygments_lexer": "ipython3",
   "version": "3.7.4"
  }
 },
 "nbformat": 4,
 "nbformat_minor": 2
}
