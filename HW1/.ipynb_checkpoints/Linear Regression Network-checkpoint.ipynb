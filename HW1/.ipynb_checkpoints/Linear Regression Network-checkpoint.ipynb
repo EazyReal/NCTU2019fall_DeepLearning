{
 "cells": [
  {
   "cell_type": "code",
   "execution_count": 2,
   "metadata": {},
   "outputs": [],
   "source": [
    "import numpy as np\n",
    "import math"
   ]
  },
  {
   "cell_type": "code",
   "execution_count": 3,
   "metadata": {},
   "outputs": [
    {
     "ename": "IndentationError",
     "evalue": "expected an indented block (<ipython-input-3-370d12588e9f>, line 9)",
     "output_type": "error",
     "traceback": [
      "\u001b[0;36m  File \u001b[0;32m\"<ipython-input-3-370d12588e9f>\"\u001b[0;36m, line \u001b[0;32m9\u001b[0m\n\u001b[0;31m    def backward():\u001b[0m\n\u001b[0m      ^\u001b[0m\n\u001b[0;31mIndentationError\u001b[0m\u001b[0;31m:\u001b[0m expected an indented block\n"
     ]
    }
   ],
   "source": [
    "def relu(x):\n",
    "    return max(0, x)\n",
    "\n",
    "def sigmoid(x):\n",
    "    return \n",
    "\n",
    "#def selu(x):\n",
    "\n",
    "class Neuron:\n",
    "    #output, error, gradient, weights\n",
    "    def __init__(self, in_data, f = relu(x)):\n",
    "        self.n_in = len(in_data)\n",
    "        self.weight = np.randam.normal(0, 0.1, size = (n_in)) #small non-zero random number as init value\n",
    "        self.error = 0.0\n",
    "        #self.grad\n",
    "        self.f = f\n",
    "        \n",
    "    def foward():\n",
    "        pass\n",
    "    \n",
    "    def backward():\n",
    "        pass\n",
    "\n",
    "class Network:\n",
    "    def __init__(self, structure)\n",
    "        self.structure = structure\n",
    "        self.layers = []\n",
    "        for i in range(structure):\n",
    "            layer = []\n",
    "            for j in range(structure[i]):\n",
    "                layer.append(Neuron(layers[-1]))\n",
    "            \n",
    "    "
   ]
  },
  {
   "cell_type": "code",
   "execution_count": null,
   "metadata": {},
   "outputs": [],
   "source": []
  }
 ],
 "metadata": {
  "kernelspec": {
   "display_name": "Python 3",
   "language": "python",
   "name": "python3"
  },
  "language_info": {
   "codemirror_mode": {
    "name": "ipython",
    "version": 3
   },
   "file_extension": ".py",
   "mimetype": "text/x-python",
   "name": "python",
   "nbconvert_exporter": "python",
   "pygments_lexer": "ipython3",
   "version": "3.7.4"
  }
 },
 "nbformat": 4,
 "nbformat_minor": 2
}
